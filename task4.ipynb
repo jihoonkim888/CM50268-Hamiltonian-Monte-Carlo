{
 "cells": [
  {
   "cell_type": "code",
   "execution_count": 1,
   "id": "b74c7667",
   "metadata": {},
   "outputs": [],
   "source": [
    "%matplotlib inline\n",
    "import numpy as np\n",
    "import pandas as pd\n",
    "import matplotlib.pyplot as plt\n",
    "from scipy import stats\n",
    "from sklearn.preprocessing import StandardScaler\n",
    "from sklearn.metrics import mean_squared_error\n",
    "\n",
    "import lab4_hmc as hmc"
   ]
  },
  {
   "cell_type": "code",
   "execution_count": 2,
   "id": "241fcd65",
   "metadata": {},
   "outputs": [],
   "source": [
    "df_train = pd.read_csv('ee-train.csv')\n",
    "df_test = pd.read_csv('ee-test.csv')"
   ]
  },
  {
   "cell_type": "code",
   "execution_count": 3,
   "id": "36fb9de0",
   "metadata": {},
   "outputs": [],
   "source": [
    "X_train = np.array(df_train.iloc[:, :-1])\n",
    "y_train = np.array(df_train.iloc[:, -1])\n",
    "X_test = np.array(df_test.iloc[:, :-1])\n",
    "y_test = np.array(df_test.iloc[:, -1])\n",
    "\n",
    "scaler = StandardScaler() # Standardise input variables\n",
    "\n",
    "X_train = scaler.fit_transform(X_train)\n",
    "X_test = scaler.transform(X_test)"
   ]
  },
  {
   "cell_type": "markdown",
   "id": "e599b784",
   "metadata": {},
   "source": [
    "### Define Functions Here"
   ]
  },
  {
   "cell_type": "code",
   "execution_count": null,
   "id": "01ceee18",
   "metadata": {},
   "outputs": [],
   "source": []
  },
  {
   "cell_type": "code",
   "execution_count": 4,
   "id": "28c42a37",
   "metadata": {},
   "outputs": [],
   "source": [
    "def e_func(x, X, t):\n",
    "    w = x[:8]\n",
    "    sigma_w_2 = x[8]\n",
    "    sigma_n_2 = x[9]\n",
    "    N = X.shape[0]\n",
    "    M = X.shape[1]\n",
    "    lgp1 = (-N/2)*np.log(2*np.pi*sigma_n_2) - (1/(2*sigma_n_2))*np.sum((t-X@w)**2)\n",
    "    lgp2 = (-M/2)*np.log(2*np.pi*sigma_w_2) - (1/(2*sigma_w_2))*np.sum(w**2)\n",
    "    lgp = lgp1 + lgp2 + np.log(sigma_w_2) + np.log(sigma_n_2)\n",
    "    return -lgp"
   ]
  },
  {
   "cell_type": "code",
   "execution_count": 5,
   "id": "4fc1782f",
   "metadata": {},
   "outputs": [],
   "source": [
    "def e_grad(x, X, t):\n",
    "    w = x[:8]\n",
    "    sigma_w_2 = x[8]\n",
    "    sigma_n_2 = x[9]\n",
    "    N = X.shape[0]\n",
    "    M = X.shape[1]\n",
    "    grad = np.zeros(10)\n",
    "#     grad[:8] = -(sigma_w_2*np.eye(len(w))@w)\n",
    "    for i, w_i in enumerate(w):\n",
    "#         grad[i] = -np.sum(X[:,i]*w_i)/sigma_n_2 - (w_i/sigma_w_2)\n",
    "        grad[i] = np.sum(X[:,i]*((t-X@w)/sigma_n_2)) - w_i/sigma_w_2\n",
    "    \n",
    "    grad[8] = (-M/(4*np.pi*sigma_w_2)) + (np.sum(w**2) / (2*(sigma_w_2**2))) + (1/sigma_w_2)\n",
    "    grad[9] = (-N/(4*np.pi*sigma_n_2)) + (np.sum((t-X@w)**2) / (2*(sigma_n_2**2))) + (1/sigma_n_2)\n",
    "    return -grad"
   ]
  },
  {
   "cell_type": "code",
   "execution_count": 6,
   "id": "3dd4354e",
   "metadata": {},
   "outputs": [],
   "source": [
    "X = X_train\n",
    "t = y_train\n",
    "# w = [0.1, 0.1, 0.1, 0.1, 0.1, 0.1, 0.1, 0.1]"
   ]
  },
  {
   "cell_type": "code",
   "execution_count": 7,
   "id": "bc34053d",
   "metadata": {},
   "outputs": [],
   "source": [
    "np.random.seed(42)"
   ]
  },
  {
   "cell_type": "code",
   "execution_count": 8,
   "id": "f6af7558",
   "metadata": {},
   "outputs": [
    {
     "name": "stdout",
     "output_type": "stream",
     "text": [
      "[0.1 0.1 0.1 0.1 0.1 0.1 0.1 0.1 1.5 1.5]\n",
      "(384, 8)\n",
      "Calc.         Numeric       Delta         Acc.\n",
      "    -1589.51      -1589.51  \u001b[37m 6.039093e-06\u001b[0m   9\n",
      "     1695.74       1695.74  \u001b[37m 2.161657e-06\u001b[0m   9\n",
      "    -1100.55      -1100.55  \u001b[37m 3.457290e-06\u001b[0m   9\n",
      "      2185.6        2185.6  \u001b[37m 7.234903e-06\u001b[0m   9\n",
      "    -2265.46      -2265.46  \u001b[37m 3.932810e-07\u001b[0m  10\n",
      "    -40.7183      -40.7183  \u001b[37m 1.216936e-06\u001b[0m   8\n",
      "    -628.479      -628.479  \u001b[37m-1.081841e-06\u001b[0m   9\n",
      "    -137.459      -137.459  \u001b[37m 5.367002e-08\u001b[0m  10\n",
      "   -0.260031       1.98222  \u001b[91m 2.242249e+00\u001b[0m   1\n",
      "    -53305.6        -53198  \u001b[91m 1.076282e+02\u001b[0m   3\n"
     ]
    }
   ],
   "source": [
    "# x will be 10 columns, 8 columns for w and one each for sigma_w and n\n",
    "x0 = np.array([0.1, 0.1, 0.1, 0.1, 0.1, 0.1, 0.1, 0.1, 1.5, 1.5]) # random point to start\n",
    "\n",
    "# x0 = np.random.uniform(0, 10, size=10)\n",
    "print(x0)\n",
    "print(X.shape)"
   ]
  },
  {
   "cell_type": "code",
   "execution_count": 24,
   "id": "c64f79b1",
   "metadata": {},
   "outputs": [
    {
     "name": "stdout",
     "output_type": "stream",
     "text": [
      "|----------|  0% accepted [ 49 secs to go ]\n",
      "|#---------| 87% accepted [ 44 secs to go ]\n",
      "|##--------| 89% accepted [ 39 secs to go ]\n",
      "|###-------| 90% accepted [ 34 secs to go ]\n",
      "|####------| 91% accepted [ 29 secs to go ]\n",
      "|#####-----| 91% accepted [ 24 secs to go ]\n",
      "|######----| 92% accepted [ 19 secs to go ]\n",
      "|#######---| 92% accepted [ 14 secs to go ]\n",
      "|########--| 92% accepted [ 10 secs to go ]\n",
      "|#########-| 93% accepted [ 5 secs to go ]\n",
      "|##########| 93% accepted [ 0 secs to go ]\n",
      "HMC: R=10000 / L=100 / eps=0.003 / Accept=92.9%\n"
     ]
    }
   ],
   "source": [
    "#\n",
    "np.random.seed(seed=1)  # For reproducibility\n",
    "R = 10000\n",
    "burn = int(R/10)\n",
    "L = 100  # OK here (should be larger in regression sampling)\n",
    "eps = 0.003  # Trial-and-error ... feel free to experiment!\n",
    "\n",
    "S, *_ = hmc.sample(x0, e_func, e_grad, R, L, eps, burn=burn, checkgrad=False, args=[X, t])\n"
   ]
  },
  {
   "cell_type": "code",
   "execution_count": 25,
   "id": "219d2acc",
   "metadata": {},
   "outputs": [],
   "source": [
    "w_mean_opt = np.mean(S[:,:8], axis=0)\n",
    "sigma_w_2_mean_opt = np.mean(S[:,-2])\n",
    "sigma_n_2_mean_opt = np.mean(S[:,-1])"
   ]
  },
  {
   "cell_type": "code",
   "execution_count": 26,
   "id": "28236dc3",
   "metadata": {},
   "outputs": [],
   "source": [
    "w_var_opt = np.var(S[:,:8], axis=0)\n",
    "sigma_w_2_var_opt = np.var(S[:,-2])\n",
    "sigma_n_2_var_opt = np.var(S[:,-1])"
   ]
  },
  {
   "cell_type": "code",
   "execution_count": 27,
   "id": "cd15c288",
   "metadata": {},
   "outputs": [
    {
     "name": "stdout",
     "output_type": "stream",
     "text": [
      "Optimised:\n",
      "Mean:\n",
      "w = [-0.61844514 -1.26075018  2.59858537 -1.34143298  6.00609017 -0.19091537\n",
      "  2.56816103  0.26773185]\n",
      "sigma_w_2 = 16.038861372674518 sigma_n_2 = 337.278867671889\n",
      "\n",
      "Variance:\n",
      "w = [7.79272193 9.18180339 2.49787176 4.92289475 4.92801661 0.79507317\n",
      " 0.82302988 0.87068105]\n",
      "sigma_w_2 = 34.50720691437468 sigma_n_2 = 3166.7391177313693\n"
     ]
    }
   ],
   "source": [
    "print(\"Optimised:\")\n",
    "print(\"Mean:\")\n",
    "print(\"w =\", w_mean_opt)\n",
    "print(\"sigma_w_2 = {} sigma_n_2 = {}\".format(sigma_w_2_mean_opt, sigma_n_2_mean_opt))\n",
    "\n",
    "print(\"\\nVariance:\")\n",
    "print(\"w =\", w_var_opt)\n",
    "print(\"sigma_w_2 = {} sigma_n_2 = {}\".format(sigma_w_2_var_opt, sigma_n_2_var_opt))"
   ]
  },
  {
   "cell_type": "markdown",
   "id": "a428d8f1",
   "metadata": {},
   "source": [
    "### Calculate gradient w and RMSE"
   ]
  },
  {
   "cell_type": "code",
   "execution_count": 28,
   "id": "64f10c23",
   "metadata": {},
   "outputs": [],
   "source": [
    "y_intercept = y_train.mean()"
   ]
  },
  {
   "cell_type": "code",
   "execution_count": 29,
   "id": "1f44597a",
   "metadata": {},
   "outputs": [],
   "source": [
    "y_test_pred = X_test@w_mean_opt + y_intercept"
   ]
  },
  {
   "cell_type": "code",
   "execution_count": 30,
   "id": "b69d2e84",
   "metadata": {},
   "outputs": [
    {
     "name": "stdout",
     "output_type": "stream",
     "text": [
      "test RMSE = 2.9821800207236917\n"
     ]
    }
   ],
   "source": [
    "rmse_test = mean_squared_error(y_test, y_test_pred, squared=False)\n",
    "print(\"test RMSE =\", rmse_test)"
   ]
  },
  {
   "cell_type": "code",
   "execution_count": 31,
   "id": "f03fc18b",
   "metadata": {},
   "outputs": [],
   "source": [
    "def error_histogram(y_pred, y_targ):\n",
    "    error_list = y_pred.reshape(-1, 1) - y_targ.reshape(-1, 1)\n",
    "    plt.hist(error_list, bins=20)\n",
    "    plt.xlabel(\"Error\")\n",
    "    plt.ylabel(\"Number of samples in the bin\")\n",
    "    plt.show()"
   ]
  },
  {
   "cell_type": "code",
   "execution_count": 32,
   "id": "d3735073",
   "metadata": {},
   "outputs": [
    {
     "data": {
      "image/png": "[encoded data removed]",
      "text/plain": [
       "<Figure size 432x288 with 1 Axes>"
      ]
     },
     "metadata": {
      "needs_background": "light"
     },
     "output_type": "display_data"
    }
   ],
   "source": [
    "error_histogram(y_test_pred, y_test)"
   ]
  },
  {
   "cell_type": "code",
   "execution_count": null,
   "id": "7ed0ec48",
   "metadata": {},
   "outputs": [],
   "source": []
  }
 ],
 "metadata": {
  "kernelspec": {
   "display_name": "Python 3",
   "language": "python",
   "name": "python3"
  },
  "language_info": {
   "codemirror_mode": {
    "name": "ipython",
    "version": 3
   },
   "file_extension": ".py",
   "mimetype": "text/x-python",
   "name": "python",
   "nbconvert_exporter": "python",
   "pygments_lexer": "ipython3",
   "version": "3.8.8"
  }
 },
 "nbformat": 4,
 "nbformat_minor": 5
}
