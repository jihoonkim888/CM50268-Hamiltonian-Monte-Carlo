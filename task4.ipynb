{
 "cells": [
  {
   "cell_type": "code",
   "execution_count": 1,
   "id": "b74c7667",
   "metadata": {},
   "outputs": [],
   "source": [
    "%matplotlib inline\n",
    "import numpy as np\n",
    "import pandas as pd\n",
    "import matplotlib.pyplot as plt\n",
    "from scipy import stats\n",
    "from sklearn.preprocessing import StandardScaler\n",
    "from sklearn.metrics import mean_squared_error\n",
    "\n",
    "import lab4_hmc as hmc"
   ]
  },
  {
   "cell_type": "code",
   "execution_count": 2,
   "id": "241fcd65",
   "metadata": {},
   "outputs": [],
   "source": [
    "df_train = pd.read_csv('ee-train.csv')\n",
    "df_test = pd.read_csv('ee-test.csv')"
   ]
  },
  {
   "cell_type": "code",
   "execution_count": 3,
   "id": "36fb9de0",
   "metadata": {},
   "outputs": [],
   "source": [
    "X_train = np.array(df_train.iloc[:, :-1])\n",
    "y_train = np.array(df_train.iloc[:, -1])\n",
    "X_test = np.array(df_test.iloc[:, :-1])\n",
    "y_test = np.array(df_test.iloc[:, -1])\n",
    "\n",
    "scaler = StandardScaler() # Standardise input variables\n",
    "\n",
    "X_train = scaler.fit_transform(X_train)\n",
    "X_test = scaler.transform(X_test)"
   ]
  },
  {
   "cell_type": "code",
   "execution_count": 4,
   "id": "2e6535c2",
   "metadata": {},
   "outputs": [],
   "source": [
    "### EXAMPLES\n",
    "def e_func(x, f):\n",
    "    # Simulating some unknown log-probability\n",
    "    p0 = -x[0]**2/2\n",
    "    p1 = -x[1]**2/2 + np.log(2+np.cos(f*x[1]))\n",
    "    lgp = p0 + p1\n",
    "    return -lgp\n",
    "\n",
    "def e_grad(x, f):\n",
    "    g = np.empty(2)\n",
    "    g[0] = x[0]\n",
    "    g[1] = x[1] + f*np.sin(f*x[1]) / (2+np.cos(f*x[1]))\n",
    "    return g"
   ]
  },
  {
   "cell_type": "markdown",
   "id": "e599b784",
   "metadata": {},
   "source": [
    "### Define Functions Here"
   ]
  },
  {
   "cell_type": "code",
   "execution_count": null,
   "id": "01ceee18",
   "metadata": {},
   "outputs": [],
   "source": []
  },
  {
   "cell_type": "code",
   "execution_count": 5,
   "id": "ff4608b3",
   "metadata": {},
   "outputs": [],
   "source": [
    "# ### p(t|sigma_n_2, sigma_w_2)\n",
    "\n",
    "# # X is observation data, x is hyperparameter set sigma_w_2 and sigma_n_2\n",
    "\n",
    "# def compute_log_marginal(x, X, t): # p(t|sigma_n_2, sigma_w_2)\n",
    "#     sigma_w_2 = x[0]\n",
    "#     sigma_n_2 = x[1]\n",
    "#     N = X.shape[0]\n",
    "#     cov = sigma_n_2*np.eye(N) + sigma_w_2*X@X.T\n",
    "#     return stats.multivariate_normal.logpdf(t, mean=None, cov=cov, allow_singular=True)\n",
    "\n",
    "# # log uniform prior for both hyperparameters as they are scale parameters\n",
    "# def e_func(x, X, t):\n",
    "#     sigma_w_2 = x[0]\n",
    "#     sigma_n_2 = x[1]\n",
    "#     lgp = compute_log_marginal(x, X, t) + np.log(sigma_w_2) + np.log(sigma_n_2)\n",
    "#     return -lgp # -ve log prob\n",
    "\n",
    "# def e_grad(x, X, t):\n",
    "#     sigma_w_2 = x[0]\n",
    "#     sigma_n_2 = x[1]\n",
    "#     N = X.shape[0]\n",
    "#     cov = sigma_n_2*np.eye(N) + sigma_w_2*X@X.T\n",
    "#     cov_inv = np.linalg.inv(cov)\n",
    "#     deriv_w = X@X.T\n",
    "#     deriv_n = np.eye(N)\n",
    "    \n",
    "#     grad_0 = t.T@cov_inv@deriv_w@cov_inv@t.T / 2 - np.trace(cov_inv@deriv_w) / 2 + 1/sigma_w_2\n",
    "#     grad_1 = t.T@cov_inv@deriv_n@cov_inv@t.T / 2 - np.trace(cov_inv@deriv_n) / 2 + 1/sigma_n_2\n",
    "    \n",
    "#     return np.array([-grad_0, -grad_1])"
   ]
  },
  {
   "cell_type": "code",
   "execution_count": 6,
   "id": "d8a4126c",
   "metadata": {},
   "outputs": [],
   "source": [
    "# ### P*(w, sigma_w, sigma_n)\n",
    "\n",
    "# def e_func(x, X, t):\n",
    "#     w = x[:8]\n",
    "#     sigma_w_2 = x[8]\n",
    "#     sigma_n_2 = x[9]\n",
    "#     N = X.shape[0]\n",
    "#     M = X.shape[1]\n",
    "    \n",
    "#     lgp = -(N/2)*np.log(2*np.pi*sigma_n_2) - np.sum((t-X@w)**2)/(2*sigma_n_2) - \\\n",
    "#     (M/2)*np.log(2*np.pi*sigma_w_2) - np.sum(w**2)/(2*sigma_w_2) + \\\n",
    "#     np.log(sigma_w_2) + np.log(sigma_n_2)\n",
    "    \n",
    "#     return -lgp\n",
    "\n",
    "# def e_grad(x, X, t):\n",
    "#     w = x[:8]\n",
    "#     sigma_w_2 = x[8]\n",
    "#     sigma_n_2 = x[9]\n",
    "#     N = X.shape[0]\n",
    "#     M = X.shape[1]\n",
    "#     grad = np.empty(10)\n",
    "    \n",
    "#     for i, w_i in enumerate(w):\n",
    "#         grad[i] = -np.sum(X[:,i]*w_i)/sigma_n_2 - (w_i/sigma_w_2)\n",
    "        \n",
    "#     grad[8] = -M/(4*np.pi*sigma_w_2) + np.sum(w**2)/(2*sigma_w_2**2) + 1/sigma_w_2\n",
    "#     grad[9] = -N/(4*np.pi*sigma_n_2) + np.sum((t-X@w)**2)/(2*sigma_n_2**2) + 1/sigma_n_2\n",
    "#     return -grad"
   ]
  },
  {
   "cell_type": "code",
   "execution_count": 7,
   "id": "28c42a37",
   "metadata": {},
   "outputs": [],
   "source": [
    "def e_func(x, X, t):\n",
    "    w = x[:8]\n",
    "    sigma_w_2 = x[8]\n",
    "    sigma_n_2 = x[9]\n",
    "    N = X.shape[0]\n",
    "    M = X.shape[1]\n",
    "#     lgp = stats.multivariate_normal.logpdf(x=t, mean=X@w, cov=sigma_w_2*np.eye(len(t))) + \\\n",
    "#     stats.multivariate_normal.logpdf(x=w, mean=None, cov=sigma_w_2*np.eye(len(w))) + \\\n",
    "#     np.log(sigma_w_2) + np.log(sigma_n_2)\n",
    "    lgp1 = (-N/2)*np.log(2*np.pi*sigma_n_2) - (1/(2*sigma_n_2))*np.sum((t-X@w)**2)\n",
    "    lgp2 = (-M/2)*np.log(2*np.pi*sigma_w_2) - (1/(2*sigma_w_2))*np.sum(w**2)\n",
    "    lgp = lgp1 + lgp2 + np.log(sigma_w_2) + np.log(sigma_n_2)\n",
    "    return -lgp\n",
    "                                           \n",
    "def e_grad(x, X, t):\n",
    "    w = x[:8]\n",
    "    sigma_w_2 = x[8]\n",
    "    sigma_n_2 = x[9]\n",
    "    N = X.shape[0]\n",
    "    M = X.shape[1]\n",
    "    grad = np.zeros(10)\n",
    "#     grad[:8] = -(sigma_w_2*np.eye(len(w))@w)\n",
    "    for i, w_i in enumerate(w):\n",
    "#         grad[i] = -np.sum(X[:,i]*w_i)/sigma_n_2 - (w_i/sigma_w_2)\n",
    "        grad[i] = np.sum(X[:,i])*(N-np.sum(X@w))/sigma_n_2 - w_i/sigma_w_2\n",
    "    \n",
    "    grad[8] = (-M/(4*np.pi*sigma_w_2)) + (np.sum(w**2) / (2*(sigma_w_2**2))) + (1/sigma_w_2)\n",
    "    grad[9] = (-N/(4*np.pi*sigma_n_2)) + (np.sum((t-X@w)**2) / (2*(sigma_n_2**2))) + (1/sigma_n_2)\n",
    "    return -grad"
   ]
  },
  {
   "cell_type": "code",
   "execution_count": 8,
   "id": "3dd4354e",
   "metadata": {},
   "outputs": [],
   "source": [
    "X = X_train\n",
    "t = y_train\n",
    "# w = [0.1, 0.1, 0.1, 0.1, 0.1, 0.1, 0.1, 0.1]"
   ]
  },
  {
   "cell_type": "code",
   "execution_count": 9,
   "id": "bc34053d",
   "metadata": {},
   "outputs": [],
   "source": [
    "np.random.seed(42)"
   ]
  },
  {
   "cell_type": "code",
   "execution_count": 10,
   "id": "f6af7558",
   "metadata": {},
   "outputs": [
    {
     "name": "stdout",
     "output_type": "stream",
     "text": [
      "[3.74540119 9.50714306 7.31993942 5.98658484 1.5601864  1.5599452\n",
      " 0.58083612 8.66176146 6.01115012 7.08072578]\n",
      "Calc.         Numeric       Delta         Acc.\n",
      "    0.623076      -938.037  \u001b[91m-9.386605e+02\u001b[0m   1\n",
      "     1.58158       968.988  \u001b[91m 9.674063e+02\u001b[0m   1\n",
      "     1.21773       146.802  \u001b[91m 1.455847e+02\u001b[0m   1\n",
      "    0.995913       883.571  \u001b[91m 8.825752e+02\u001b[0m   1\n",
      "    0.259549      -891.221  \u001b[91m-8.914806e+02\u001b[0m   1\n",
      "    0.259509       64.1142  \u001b[91m 6.385465e+01\u001b[0m   1\n",
      "   0.0966265      -6.74124  \u001b[91m-6.837865e+00\u001b[0m   1\n",
      "     1.44095       438.388  \u001b[91m 4.369474e+02\u001b[0m   1\n",
      "    -3.85281      -3.29329  \u001b[91m 5.595238e-01\u001b[0m   1\n",
      "    -3562.62      -3539.82  \u001b[91m 2.280024e+01\u001b[0m   3\n"
     ]
    }
   ],
   "source": [
    "# x will be 10 columns, 8 columns for w and one each for sigma_w and n\n",
    "# x0 = np.array([0.1, 0.1, 0.1, 0.1, 0.1, 0.1, 0.1, 0.1, 1.5, 1.5]) # random point to start\n",
    "\n",
    "x0 = np.random.uniform(0, 10, size=10)\n",
    "print(x0)\n",
    "hmc.gradient_check(x0, e_func, e_grad, X, t)"
   ]
  },
  {
   "cell_type": "code",
   "execution_count": 31,
   "id": "c64f79b1",
   "metadata": {},
   "outputs": [
    {
     "name": "stdout",
     "output_type": "stream",
     "text": [
      "|----------|  0% accepted [ 152 secs to go ]\n",
      "|#---------| 84% accepted [ 136 secs to go ]\n",
      "|##--------| 85% accepted [ 121 secs to go ]\n",
      "|###-------| 85% accepted [ 105 secs to go ]\n",
      "|####------| 86% accepted [ 90 secs to go ]\n",
      "|#####-----| 87% accepted [ 75 secs to go ]\n",
      "|######----| 87% accepted [ 60 secs to go ]\n",
      "|#######---| 88% accepted [ 45 secs to go ]\n",
      "|########--| 88% accepted [ 30 secs to go ]\n",
      "|#########-| 88% accepted [ 15 secs to go ]\n",
      "|##########| 89% accepted [ 0 secs to go ]\n",
      "HMC: R=10000 / L=100 / eps=0.0005 / Accept=88.5%\n"
     ]
    }
   ],
   "source": [
    "#\n",
    "np.random.seed(seed=1)  # For reproducibility\n",
    "R = 10000\n",
    "burn = int(R/10)\n",
    "L = 100  # OK here (should be larger in regression sampling)\n",
    "eps = 0.0005  # Trial-and-error ... feel free to experiment!\n",
    "\n",
    "S, *_ = hmc.sample(x0, e_func, e_grad, R, L, eps, burn=burn, checkgrad=False, args=[X, t])\n"
   ]
  },
  {
   "cell_type": "code",
   "execution_count": 32,
   "id": "952043bd",
   "metadata": {
    "scrolled": true
   },
   "outputs": [
    {
     "data": {
      "text/plain": [
       "(10000, 10)"
      ]
     },
     "execution_count": 32,
     "metadata": {},
     "output_type": "execute_result"
    }
   ],
   "source": [
    "S.shape"
   ]
  },
  {
   "cell_type": "code",
   "execution_count": 33,
   "id": "f7202af5",
   "metadata": {},
   "outputs": [
    {
     "data": {
      "text/plain": [
       "array([  0.17117584,   0.82689581,   2.16337067,  -0.96818534,\n",
       "         7.69570216,  -0.75720806,   2.63326722,   0.27551847,\n",
       "         9.44887654, 150.96767121])"
      ]
     },
     "execution_count": 33,
     "metadata": {},
     "output_type": "execute_result"
    }
   ],
   "source": [
    "S[-1]"
   ]
  },
  {
   "cell_type": "code",
   "execution_count": 55,
   "id": "9e99c0c4",
   "metadata": {},
   "outputs": [
    {
     "data": {
      "image/png": "[encoded data removed]",
      "text/plain": [
       "<Figure size 432x288 with 1 Axes>"
      ]
     },
     "metadata": {
      "needs_background": "light"
     },
     "output_type": "display_data"
    }
   ],
   "source": [
    "plt.hist(S[:,0], bins=10)\n",
    "plt.xlabel(\"$w_1$\");"
   ]
  },
  {
   "cell_type": "code",
   "execution_count": 34,
   "id": "18462caa",
   "metadata": {},
   "outputs": [
    {
     "data": {
      "image/png": "[encoded data removed]",
      "text/plain": [
       "<Figure size 432x288 with 1 Axes>"
      ]
     },
     "metadata": {
      "needs_background": "light"
     },
     "output_type": "display_data"
    }
   ],
   "source": [
    "plt.hist(S[:,-2], bins=10)\n",
    "plt.xlabel(\"$\\sigma_w^2$\");"
   ]
  },
  {
   "cell_type": "code",
   "execution_count": 35,
   "id": "dd911034",
   "metadata": {},
   "outputs": [
    {
     "data": {
      "image/png": "[encoded data removed]",
      "text/plain": [
       "<Figure size 432x288 with 1 Axes>"
      ]
     },
     "metadata": {
      "needs_background": "light"
     },
     "output_type": "display_data"
    }
   ],
   "source": [
    "plt.hist(S[:,-1], bins=10)\n",
    "plt.xlabel(\"$\\sigma_n^2$\");"
   ]
  },
  {
   "cell_type": "code",
   "execution_count": null,
   "id": "76cb6b6c",
   "metadata": {},
   "outputs": [],
   "source": []
  },
  {
   "cell_type": "code",
   "execution_count": 36,
   "id": "cc19aab1",
   "metadata": {},
   "outputs": [],
   "source": [
    "w_opt = S[-1, :8]\n",
    "sigma_w_2_opt = S[-1, -2]\n",
    "sigma_n_2_opt = S[-1, -1]"
   ]
  },
  {
   "cell_type": "code",
   "execution_count": 50,
   "id": "219d2acc",
   "metadata": {},
   "outputs": [],
   "source": [
    "w_mean_opt = np.mean(S[:,:8], axis=0)\n",
    "sigma_w_2_mean_opt = np.mean(S[:,-2])\n",
    "sigma_n_2_mean_opt = np.mean(S[:,-1])"
   ]
  },
  {
   "cell_type": "code",
   "execution_count": 54,
   "id": "cd15c288",
   "metadata": {},
   "outputs": [
    {
     "name": "stdout",
     "output_type": "stream",
     "text": [
      "Optimised:\n",
      "w = [ 3.11072934  1.91795832  2.98886479  0.69612967  7.59507772 -0.2827793\n",
      "  2.60877943  0.38129564]\n",
      "sigma_w_2 = 8.24911070560941 sigma_n_2 = 118.14196438226446\n"
     ]
    }
   ],
   "source": [
    "print(\"Optimised:\")\n",
    "print(\"w =\", w_mean_opt)\n",
    "print(\"sigma_w_2 = {} sigma_n_2 = {}\".format(sigma_w_2_mean_opt, sigma_n_2_mean_opt))"
   ]
  },
  {
   "cell_type": "markdown",
   "id": "a428d8f1",
   "metadata": {},
   "source": [
    "### Calculate gradient w and RMSE"
   ]
  },
  {
   "cell_type": "code",
   "execution_count": 38,
   "id": "c663b942",
   "metadata": {},
   "outputs": [],
   "source": [
    "# def get_w(X, y, sigma_n_2, sigma_w_2):\n",
    "#     return np.linalg.inv(X.T@X + sigma_n_2*(1/sigma_w_2)*np.eye(X.shape[1]))@X.T@y"
   ]
  },
  {
   "cell_type": "code",
   "execution_count": 39,
   "id": "f4758f15",
   "metadata": {},
   "outputs": [],
   "source": [
    "# w = get_w(X_train, y_train, sigma_n_2_opt, sigma_w_2_opt)\n",
    "# w"
   ]
  },
  {
   "cell_type": "code",
   "execution_count": 40,
   "id": "64f10c23",
   "metadata": {},
   "outputs": [],
   "source": [
    "y_intercept = y_train.mean()"
   ]
  },
  {
   "cell_type": "code",
   "execution_count": 52,
   "id": "1f44597a",
   "metadata": {},
   "outputs": [],
   "source": [
    "y_test_pred = X_test@w_mean_opt + y_intercept"
   ]
  },
  {
   "cell_type": "code",
   "execution_count": 53,
   "id": "b69d2e84",
   "metadata": {},
   "outputs": [
    {
     "name": "stdout",
     "output_type": "stream",
     "text": [
      "test RMSE = 3.0757167780902264\n"
     ]
    }
   ],
   "source": [
    "rmse_test = mean_squared_error(y_test, y_test_pred, squared=False)\n",
    "print(\"test RMSE =\", rmse_test)"
   ]
  },
  {
   "cell_type": "code",
   "execution_count": 43,
   "id": "f03fc18b",
   "metadata": {},
   "outputs": [],
   "source": [
    "def error_histogram(y_pred, y_targ):\n",
    "    error_list = y_pred.reshape(-1, 1) - y_targ.reshape(-1, 1)\n",
    "    plt.hist(error_list, bins=20)\n",
    "    plt.xlabel(\"Error\")\n",
    "    plt.ylabel(\"Number of samples in the bin\")\n",
    "    plt.show()"
   ]
  },
  {
   "cell_type": "code",
   "execution_count": 44,
   "id": "d3735073",
   "metadata": {},
   "outputs": [
    {
     "data": {
      "image/png": "[encoded data removed]",
      "text/plain": [
       "<Figure size 432x288 with 1 Axes>"
      ]
     },
     "metadata": {
      "needs_background": "light"
     },
     "output_type": "display_data"
    }
   ],
   "source": [
    "error_histogram(y_test_pred, y_test)"
   ]
  },
  {
   "cell_type": "code",
   "execution_count": null,
   "id": "7ba50544",
   "metadata": {},
   "outputs": [],
   "source": []
  }
 ],
 "metadata": {
  "kernelspec": {
   "display_name": "Python 3",
   "language": "python",
   "name": "python3"
  },
  "language_info": {
   "codemirror_mode": {
    "name": "ipython",
    "version": 3
   },
   "file_extension": ".py",
   "mimetype": "text/x-python",
   "name": "python",
   "nbconvert_exporter": "python",
   "pygments_lexer": "ipython3",
   "version": "3.6.13"
  }
 },
 "nbformat": 4,
 "nbformat_minor": 5
}
