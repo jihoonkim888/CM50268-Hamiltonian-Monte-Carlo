{
 "cells": [
  {
   "cell_type": "code",
   "execution_count": 1,
   "id": "ee5f0a44",
   "metadata": {},
   "outputs": [],
   "source": [
    "%matplotlib inline\n",
    "import numpy as np\n",
    "import pandas as pd\n",
    "import matplotlib.pyplot as plt\n",
    "from scipy import stats\n",
    "from sklearn.preprocessing import StandardScaler\n",
    "from sklearn.metrics import mean_squared_error\n",
    "\n",
    "import lab4_hmc as hmc"
   ]
  },
  {
   "cell_type": "code",
   "execution_count": 2,
   "id": "65c0b37f",
   "metadata": {},
   "outputs": [],
   "source": [
    "df_train = pd.read_csv('ee-train.csv')\n",
    "df_test = pd.read_csv('ee-test.csv')"
   ]
  },
  {
   "cell_type": "code",
   "execution_count": 3,
   "id": "4764a311",
   "metadata": {},
   "outputs": [],
   "source": [
    "X_train = np.array(df_train.iloc[:, :-1])\n",
    "y_train = np.array(df_train.iloc[:, -1])\n",
    "X_test = np.array(df_test.iloc[:, :-1])\n",
    "y_test = np.array(df_test.iloc[:, -1])\n",
    "\n",
    "scaler = StandardScaler() # Standardise input variables\n",
    "\n",
    "X_train = scaler.fit_transform(X_train)\n",
    "X_test = scaler.transform(X_test)"
   ]
  },
  {
   "cell_type": "code",
   "execution_count": 4,
   "id": "cd89ccaf",
   "metadata": {},
   "outputs": [],
   "source": [
    "### EXAMPLES\n",
    "def e_func(x, f):\n",
    "    # Simulating some unknown log-probability\n",
    "    p0 = -x[0]**2/2\n",
    "    p1 = -x[1]**2/2 + np.log(2+np.cos(f*x[1]))\n",
    "    lgp = p0 + p1\n",
    "    return -lgp\n",
    "\n",
    "def e_grad(x, f):\n",
    "    g = np.empty(2)\n",
    "    g[0] = x[0]\n",
    "    g[1] = x[1] + f*np.sin(f*x[1]) / (2+np.cos(f*x[1]))\n",
    "    return g"
   ]
  },
  {
   "cell_type": "markdown",
   "id": "5823e267",
   "metadata": {},
   "source": [
    "### Define Functions Here"
   ]
  },
  {
   "cell_type": "code",
   "execution_count": null,
   "id": "a413af90",
   "metadata": {},
   "outputs": [],
   "source": []
  },
  {
   "cell_type": "code",
   "execution_count": 5,
   "id": "bd9c7adf",
   "metadata": {},
   "outputs": [],
   "source": [
    "# X is observation data, x is hyperparameter set sigma_w_2 and sigma_n_2\n",
    "\n",
    "def compute_log_marginal(x, X, t): # p(t|sigma_n_2, sigma_w_2)\n",
    "    sigma_w_2 = x[0]\n",
    "    sigma_n_2 = x[1]\n",
    "    N = X.shape[0]\n",
    "    cov = sigma_n_2*np.eye(N) + sigma_w_2*X@X.T\n",
    "    return stats.multivariate_normal.logpdf(t, mean=None, cov=cov, allow_singular=True)\n",
    "\n",
    "# log uniform prior for both hyperparameters as they are scale parameters\n",
    "def e_func(x, X, t):\n",
    "    sigma_w_2 = x[0]\n",
    "    sigma_n_2 = x[1]\n",
    "    lgp = compute_log_marginal(x, X, t) + np.log(sigma_w_2) + np.log(sigma_n_2)\n",
    "    return -lgp # -ve log prob\n",
    "\n",
    "def e_grad(x, X, t):\n",
    "    sigma_w_2 = x[0]\n",
    "    sigma_n_2 = x[1]\n",
    "    N = X.shape[0]\n",
    "    cov = sigma_n_2*np.eye(N) + sigma_w_2*X@X.T\n",
    "    cov_inv = np.linalg.inv(cov)\n",
    "    deriv_w = X@X.T\n",
    "    deriv_n = np.eye(N)\n",
    "    \n",
    "    grad_0 = t.T@cov_inv@deriv_w@cov_inv@t.T / 2 - np.trace(cov_inv@deriv_w) / 2+ 1/sigma_w_2\n",
    "    grad_1 = t.T@cov_inv@deriv_n@cov_inv@t.T / 2 - np.trace(cov_inv@deriv_n) / 2 + 1/sigma_n_2\n",
    "    \n",
    "    return np.array([-grad_0, -grad_1])"
   ]
  },
  {
   "cell_type": "code",
   "execution_count": 6,
   "id": "86d87e74",
   "metadata": {},
   "outputs": [],
   "source": [
    "X = X_train\n",
    "t = y_train"
   ]
  },
  {
   "cell_type": "code",
   "execution_count": 7,
   "id": "1083bb85",
   "metadata": {},
   "outputs": [
    {
     "name": "stdout",
     "output_type": "stream",
     "text": [
      "Calc.         Numeric       Delta         Acc.\n",
      "    -5653.29      -5653.29  \u001b[37m 2.022182e-04\u001b[0m   8\n",
      "-1.02598e+07  -1.02598e+07  \u001b[37m 1.477143e-03\u001b[0m  10\n"
     ]
    }
   ],
   "source": [
    "x0 = np.array([0.1, 0.1]) # random point to start\n",
    "hmc.gradient_check(x0, e_func, e_grad, X, t)"
   ]
  },
  {
   "cell_type": "code",
   "execution_count": null,
   "id": "88fd644c",
   "metadata": {},
   "outputs": [
    {
     "name": "stdout",
     "output_type": "stream",
     "text": [
      "Calc.         Numeric       Delta         Acc.\n",
      "    -5653.29      -5653.29  \u001b[37m 2.022182e-04\u001b[0m   8\n",
      "-1.02598e+07  -1.02598e+07  \u001b[37m 1.477143e-03\u001b[0m  10\n",
      "|----------|  0% accepted [ 168 secs to go ]\n",
      "|#---------|  0% accepted [ 148 secs to go ]\n",
      "|##--------|  0% accepted [ 131 secs to go ]\n",
      "|###-------|  0% accepted [ 114 secs to go ]\n"
     ]
    }
   ],
   "source": [
    "#\n",
    "np.random.seed(seed=1)  # For reproducibility\n",
    "R = 250\n",
    "burn = int(R/10)\n",
    "L = 100  # OK here (should be larger in regression sampling)\n",
    "eps = 1.2  # Trial-and-error ... feel free to experiment!\n",
    "#\n",
    "S, *_ = hmc.sample(x0, e_func, e_grad, R, L, eps, burn=burn, checkgrad=True, args=[X, t])\n",
    "#\n",
    "plt.figure(figsize=fsz)\n",
    "plt.plot(S[:, 0], S[:, 1], '.', ms=6, color='CadetBlue', alpha=0.25, zorder=0)\n",
    "plt.contour(GX, GY, P.reshape((gsz, gsz)), cmap='Reds', linewidths=3, zorder=1);\n",
    "plt.xlabel('$x_0$')\n",
    "plt.ylabel('$x_1$');"
   ]
  },
  {
   "cell_type": "code",
   "execution_count": null,
   "id": "dabfce09",
   "metadata": {},
   "outputs": [],
   "source": []
  },
  {
   "cell_type": "code",
   "execution_count": null,
   "id": "df00bc06",
   "metadata": {},
   "outputs": [],
   "source": []
  },
  {
   "cell_type": "code",
   "execution_count": null,
   "id": "beb7b715",
   "metadata": {},
   "outputs": [],
   "source": []
  },
  {
   "cell_type": "code",
   "execution_count": null,
   "id": "41e15a80",
   "metadata": {},
   "outputs": [],
   "source": []
  },
  {
   "cell_type": "code",
   "execution_count": null,
   "id": "b2b807f7",
   "metadata": {},
   "outputs": [],
   "source": []
  }
 ],
 "metadata": {
  "kernelspec": {
   "display_name": "Python 3",
   "language": "python",
   "name": "python3"
  },
  "language_info": {
   "codemirror_mode": {
    "name": "ipython",
    "version": 3
   },
   "file_extension": ".py",
   "mimetype": "text/x-python",
   "name": "python",
   "nbconvert_exporter": "python",
   "pygments_lexer": "ipython3",
   "version": "3.6.13"
  }
 },
 "nbformat": 4,
 "nbformat_minor": 5
}
