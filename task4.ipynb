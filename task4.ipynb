{
 "cells": [
  {
   "cell_type": "code",
   "execution_count": 1,
   "id": "e87cd387",
   "metadata": {},
   "outputs": [],
   "source": [
    "%matplotlib inline\n",
    "import numpy as np\n",
    "import pandas as pd\n",
    "import matplotlib.pyplot as plt\n",
    "from scipy import stats\n",
    "from sklearn.preprocessing import StandardScaler\n",
    "from sklearn.metrics import mean_squared_error\n",
    "\n",
    "import lab4_hmc as hmc"
   ]
  },
  {
   "cell_type": "code",
   "execution_count": 2,
   "id": "5be56bf5",
   "metadata": {},
   "outputs": [],
   "source": [
    "df_train = pd.read_csv('ee-train.csv')\n",
    "df_test = pd.read_csv('ee-test.csv')"
   ]
  },
  {
   "cell_type": "code",
   "execution_count": 3,
   "id": "fdcc43c3",
   "metadata": {},
   "outputs": [],
   "source": [
    "X_train = np.array(df_train.iloc[:, :-1])\n",
    "y_train = np.array(df_train.iloc[:, -1])\n",
    "X_test = np.array(df_test.iloc[:, :-1])\n",
    "y_test = np.array(df_test.iloc[:, -1])\n",
    "\n",
    "scaler = StandardScaler() # Standardise input variables\n",
    "\n",
    "X_train = scaler.fit_transform(X_train)\n",
    "X_test = scaler.transform(X_test)"
   ]
  },
  {
   "cell_type": "code",
   "execution_count": 4,
   "id": "d33e546d",
   "metadata": {},
   "outputs": [],
   "source": [
    "### EXAMPLES\n",
    "def e_func(x, f):\n",
    "    # Simulating some unknown log-probability\n",
    "    p0 = -x[0]**2/2\n",
    "    p1 = -x[1]**2/2 + np.log(2+np.cos(f*x[1]))\n",
    "    lgp = p0 + p1\n",
    "    return -lgp\n",
    "\n",
    "def e_grad(x, f):\n",
    "    g = np.empty(2)\n",
    "    g[0] = x[0]\n",
    "    g[1] = x[1] + f*np.sin(f*x[1]) / (2+np.cos(f*x[1]))\n",
    "    return g"
   ]
  },
  {
   "cell_type": "markdown",
   "id": "780bb487",
   "metadata": {},
   "source": [
    "### Define Functions Here"
   ]
  },
  {
   "cell_type": "code",
   "execution_count": null,
   "id": "da6e48e6",
   "metadata": {},
   "outputs": [],
   "source": []
  },
  {
   "cell_type": "code",
   "execution_count": 5,
   "id": "3fac7006",
   "metadata": {},
   "outputs": [],
   "source": [
    "# X is observation data, x is hyperparameter set sigma_w_2 and sigma_n_2\n",
    "\n",
    "def compute_log_marginal(x, X, t): # p(t|sigma_n_2, sigma_w_2)\n",
    "    sigma_w_2 = x[0]\n",
    "    sigma_n_2 = x[1]\n",
    "    N = X.shape[0]\n",
    "    cov = sigma_n_2*np.eye(N) + sigma_w_2*X@X.T\n",
    "    return stats.multivariate_normal.logpdf(t, mean=None, cov=cov, allow_singular=True)\n",
    "\n",
    "# log uniform prior for both hyperparameters as they are scale parameters\n",
    "def e_func(x, X, t):\n",
    "    sigma_w_2 = x[0]\n",
    "    sigma_n_2 = x[1]\n",
    "    lgp = compute_log_marginal(x, X, t) + np.log(sigma_w_2) + np.log(sigma_n_2)\n",
    "    return -lgp # -ve log prob\n",
    "\n",
    "def e_grad(x, X, t):\n",
    "    sigma_w_2 = x[0]\n",
    "    sigma_n_2 = x[1]\n",
    "    N = X.shape[0]\n",
    "    cov = sigma_n_2*np.eye(N) + sigma_w_2*X@X.T\n",
    "    cov_inv = np.linalg.inv(cov)\n",
    "    deriv_w = X@X.T\n",
    "    deriv_n = np.eye(N)\n",
    "    \n",
    "    grad_0 = t.T@cov_inv@deriv_w@cov_inv@t.T / 2 - np.trace(cov_inv@deriv_w) / 2 + 1/sigma_w_2\n",
    "    grad_1 = t.T@cov_inv@deriv_n@cov_inv@t.T / 2 - np.trace(cov_inv@deriv_n) / 2 + 1/sigma_n_2\n",
    "    \n",
    "    return np.array([-grad_0, -grad_1])"
   ]
  },
  {
   "cell_type": "code",
   "execution_count": 6,
   "id": "7e4e73b1",
   "metadata": {},
   "outputs": [],
   "source": [
    "X = X_train\n",
    "t = y_train"
   ]
  },
  {
   "cell_type": "code",
   "execution_count": 7,
   "id": "f104a9ff",
   "metadata": {},
   "outputs": [
    {
     "name": "stdout",
     "output_type": "stream",
     "text": [
      "Calc.         Numeric       Delta         Acc.\n",
      "    -84.1394      -84.1394  \u001b[37m 2.655279e-06\u001b[0m   8\n",
      "    -248.012      -248.012  \u001b[37m-1.469431e-06\u001b[0m   9\n"
     ]
    }
   ],
   "source": [
    "x0 = np.array([0.5, 20]) # random point to start\n",
    "hmc.gradient_check(x0, e_func, e_grad, X, t)"
   ]
  },
  {
   "cell_type": "code",
   "execution_count": 17,
   "id": "fc45004b",
   "metadata": {},
   "outputs": [
    {
     "name": "stdout",
     "output_type": "stream",
     "text": [
      "Calc.         Numeric       Delta         Acc.\n",
      "    -84.1394      -84.1394  \u001b[37m 2.655279e-06\u001b[0m   8\n",
      "    -248.012      -248.012  \u001b[37m-1.469431e-06\u001b[0m   9\n",
      "|----------|  0% accepted [ 615 secs to go ]\n",
      "|#---------|  7% accepted [ 558 secs to go ]\n",
      "|##--------| 53% accepted [ 498 secs to go ]\n",
      "|###-------| 69% accepted [ 433 secs to go ]\n",
      "|####------| 77% accepted [ 371 secs to go ]\n",
      "|#####-----| 81% accepted [ 308 secs to go ]\n",
      "|######----| 84% accepted [ 247 secs to go ]\n",
      "|#######---| 87% accepted [ 185 secs to go ]\n",
      "|########--| 88% accepted [ 123 secs to go ]\n",
      "|#########-| 90% accepted [ 61 secs to go ]\n",
      "|##########| 91% accepted [ 1 secs to go ]\n",
      "HMC: R=1000 / L=100 / eps=0.69 / Accept=90.6%\n"
     ]
    }
   ],
   "source": [
    "#\n",
    "np.random.seed(seed=1)  # For reproducibility\n",
    "R = 1000\n",
    "burn = int(R/10)\n",
    "L = 100  # OK here (should be larger in regression sampling)\n",
    "eps = 0.69  # Trial-and-error ... feel free to experiment!\n",
    "\n",
    "S, *_ = hmc.sample(x0, e_func, e_grad, R, L, eps, burn=burn, checkgrad=True, args=[X, t])\n"
   ]
  },
  {
   "cell_type": "code",
   "execution_count": 18,
   "id": "59f16483",
   "metadata": {},
   "outputs": [
    {
     "data": {
      "text/plain": [
       "(1000, 2)"
      ]
     },
     "execution_count": 18,
     "metadata": {},
     "output_type": "execute_result"
    }
   ],
   "source": [
    "S.shape"
   ]
  },
  {
   "cell_type": "code",
   "execution_count": 19,
   "id": "16c2efa8",
   "metadata": {},
   "outputs": [
    {
     "data": {
      "image/png": "[encoded data removed]",
      "text/plain": [
       "<Figure size 432x288 with 1 Axes>"
      ]
     },
     "metadata": {
      "needs_background": "light"
     },
     "output_type": "display_data"
    }
   ],
   "source": [
    "plt.hist(np.log(S[:,0]), bins=20)\n",
    "plt.xlabel(\"log $\\sigma_w^2$\");"
   ]
  },
  {
   "cell_type": "code",
   "execution_count": 20,
   "id": "73ad6cdf",
   "metadata": {},
   "outputs": [
    {
     "data": {
      "image/png": "[encoded data removed]",
      "text/plain": [
       "<Figure size 432x288 with 1 Axes>"
      ]
     },
     "metadata": {
      "needs_background": "light"
     },
     "output_type": "display_data"
    }
   ],
   "source": [
    "plt.hist(np.log(S[:,1]), bins=20)\n",
    "plt.xlabel(\"log $\\sigma_n^2$\");"
   ]
  },
  {
   "cell_type": "code",
   "execution_count": null,
   "id": "0b71b340",
   "metadata": {},
   "outputs": [],
   "source": []
  },
  {
   "cell_type": "code",
   "execution_count": 21,
   "id": "413c5816",
   "metadata": {},
   "outputs": [
    {
     "data": {
      "text/plain": [
       "[<matplotlib.lines.Line2D at 0x7f9ca0db56d8>]"
      ]
     },
     "execution_count": 21,
     "metadata": {},
     "output_type": "execute_result"
    },
    {
     "data": {
      "image/png": "[encoded data removed]",
      "text/plain": [
       "<Figure size 720x576 with 1 Axes>"
      ]
     },
     "metadata": {
      "needs_background": "light"
     },
     "output_type": "display_data"
    }
   ],
   "source": [
    "fsz = (10,8)\n",
    "gsz = 100\n",
    "lim = 3\n",
    "#\n",
    "gx = np.linspace(-lim, lim, gsz)\n",
    "GX, GY = np.meshgrid(gx, gx)\n",
    "Gsz = GX.size\n",
    "G = np.hstack((GX.reshape((Gsz, 1)), GY.reshape((Gsz, 1))))\n",
    "#\n",
    "# plt.figure(figsize=fsz)\n",
    "# plt.contour(GX, GY, P.reshape((gsz, gsz)), cmap='Reds', linewidths=3, zorder=1);\n",
    "\n",
    "plt.figure(figsize=fsz)\n",
    "plt.plot(S[:, 0], S[:, 1], '.', ms=6, color='CadetBlue', alpha=0.25, zorder=0)\n",
    "# plt.contour(GX, GY, P.reshape((gsz, gsz)), cmap='Reds', linewidths=3, zorder=1);"
   ]
  },
  {
   "cell_type": "code",
   "execution_count": 22,
   "id": "70413c91",
   "metadata": {},
   "outputs": [],
   "source": [
    "sigma_w_2_opt = np.mean(S[:, 0])\n",
    "sigma_n_2_opt = np.mean(S[:, 1])"
   ]
  },
  {
   "cell_type": "code",
   "execution_count": 23,
   "id": "f741ac09",
   "metadata": {},
   "outputs": [
    {
     "name": "stdout",
     "output_type": "stream",
     "text": [
      "Optimised:\n",
      "sigma_w_2 = 205.5609719079909 sigma_n_2 = 592.1910624031282\n"
     ]
    }
   ],
   "source": [
    "print(\"Optimised:\")\n",
    "print(\"sigma_w_2 = {} sigma_n_2 = {}\".format(sigma_w_2_opt, sigma_n_2_opt))"
   ]
  },
  {
   "cell_type": "markdown",
   "id": "aecbd1e3",
   "metadata": {},
   "source": [
    "### Calculate gradient w and RMSE"
   ]
  },
  {
   "cell_type": "code",
   "execution_count": 26,
   "id": "b5a20dc9",
   "metadata": {},
   "outputs": [],
   "source": [
    "def get_w(X, y, sigma_n_2, sigma_w_2):\n",
    "    return np.linalg.inv(X.T@X + sigma_n_2*(1/sigma_w_2)*np.eye(X.shape[1]))@X.T@y"
   ]
  },
  {
   "cell_type": "code",
   "execution_count": 27,
   "id": "5711cdff",
   "metadata": {},
   "outputs": [
    {
     "data": {
      "text/plain": [
       "array([-3.92399153, -1.87839126,  1.37597292, -2.49486455,  7.70887695,\n",
       "       -0.13136096,  2.76685421,  0.18654982])"
      ]
     },
     "execution_count": 27,
     "metadata": {},
     "output_type": "execute_result"
    }
   ],
   "source": [
    "w = get_w(X_train, y_train, sigma_n_2_opt, sigma_w_2_opt)\n",
    "w"
   ]
  },
  {
   "cell_type": "code",
   "execution_count": 28,
   "id": "23de8be3",
   "metadata": {},
   "outputs": [],
   "source": [
    "y_intercept = y_train.mean()"
   ]
  },
  {
   "cell_type": "code",
   "execution_count": 30,
   "id": "5f92e5fe",
   "metadata": {},
   "outputs": [],
   "source": [
    "y_test_pred = X_test@w + y_intercept"
   ]
  },
  {
   "cell_type": "code",
   "execution_count": 31,
   "id": "2555ba9e",
   "metadata": {},
   "outputs": [
    {
     "name": "stdout",
     "output_type": "stream",
     "text": [
      "test RMSE = 2.859220404668006\n"
     ]
    }
   ],
   "source": [
    "rmse_test = mean_squared_error(y_test, y_test_pred, squared=False)\n",
    "print(\"test RMSE =\", rmse_test)"
   ]
  },
  {
   "cell_type": "code",
   "execution_count": 32,
   "id": "a7741db4",
   "metadata": {},
   "outputs": [],
   "source": [
    "def error_histogram(y_pred, y_targ):\n",
    "    error_list = y_pred.reshape(-1, 1) - y_targ.reshape(-1, 1)\n",
    "    plt.hist(error_list, bins=20)\n",
    "    plt.xlabel(\"Error\")\n",
    "    plt.ylabel(\"Number of samples in the bin\")\n",
    "    plt.show()"
   ]
  },
  {
   "cell_type": "code",
   "execution_count": 33,
   "id": "4963ac5a",
   "metadata": {},
   "outputs": [
    {
     "data": {
      "image/png": "[encoded data removed]",
      "text/plain": [
       "<Figure size 432x288 with 1 Axes>"
      ]
     },
     "metadata": {
      "needs_background": "light"
     },
     "output_type": "display_data"
    }
   ],
   "source": [
    "error_histogram(y_test_pred, y_test)"
   ]
  },
  {
   "cell_type": "code",
   "execution_count": null,
   "id": "043cac0a",
   "metadata": {},
   "outputs": [],
   "source": []
  }
 ],
 "metadata": {
  "kernelspec": {
   "display_name": "Python 3",
   "language": "python",
   "name": "python3"
  },
  "language_info": {
   "codemirror_mode": {
    "name": "ipython",
    "version": 3
   },
   "file_extension": ".py",
   "mimetype": "text/x-python",
   "name": "python",
   "nbconvert_exporter": "python",
   "pygments_lexer": "ipython3",
   "version": "3.6.13"
  }
 },
 "nbformat": 4,
 "nbformat_minor": 5
}
