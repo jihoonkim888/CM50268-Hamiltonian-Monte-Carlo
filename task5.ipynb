{
 "cells": [
  {
   "cell_type": "code",
   "execution_count": 1,
   "id": "e2f948f3",
   "metadata": {},
   "outputs": [],
   "source": [
    "%matplotlib inline\n",
    "import numpy as np\n",
    "import pandas as pd\n",
    "import matplotlib.pyplot as plt\n",
    "from scipy import stats\n",
    "from sklearn.preprocessing import StandardScaler\n",
    "from sklearn.metrics import mean_squared_error, accuracy_score\n",
    "\n",
    "import lab4_hmc as hmc"
   ]
  },
  {
   "cell_type": "code",
   "execution_count": 2,
   "id": "9639e72e",
   "metadata": {},
   "outputs": [],
   "source": [
    "df_train = pd.read_csv('ee-train.csv')\n",
    "df_test = pd.read_csv('ee-test.csv')"
   ]
  },
  {
   "cell_type": "code",
   "execution_count": 3,
   "id": "6fc82603",
   "metadata": {},
   "outputs": [],
   "source": [
    "X_train = np.array(df_train.iloc[:, :-1])\n",
    "y_train = np.array(df_train.iloc[:, -1])\n",
    "X_test = np.array(df_test.iloc[:, :-1])\n",
    "y_test = np.array(df_test.iloc[:, -1])\n",
    "\n",
    "scaler = StandardScaler() # Standardise input variables\n",
    "\n",
    "X_train = scaler.fit_transform(X_train)\n",
    "X_test = scaler.transform(X_test)"
   ]
  },
  {
   "cell_type": "markdown",
   "id": "41444623",
   "metadata": {},
   "source": [
    "### Change continuous target $y$ into discrete $[0, 1]$ for classifier"
   ]
  },
  {
   "cell_type": "code",
   "execution_count": 4,
   "id": "66e5b1cf",
   "metadata": {},
   "outputs": [],
   "source": [
    "# if y > 23.0, positive 1, negative 0 otherwise\n",
    "for i, y in enumerate(y_train):\n",
    "    if y > 23.0:\n",
    "        y_train[i] = 1\n",
    "    else:\n",
    "        y_train[i] = 0\n",
    "\n",
    "for i, y in enumerate(y_test):\n",
    "    if y > 23.0:\n",
    "        y_test[i] = 1\n",
    "    else:\n",
    "        y_test[i] = 0\n",
    "        \n",
    "y_train = y_train.astype(int)\n",
    "y_test = y_test.astype(int)"
   ]
  },
  {
   "cell_type": "code",
   "execution_count": 5,
   "id": "3fc01609",
   "metadata": {},
   "outputs": [
    {
     "data": {
      "text/plain": [
       "array([0, 1, 1, 1, 1, 0, 0, 1, 0, 1, 0, 1, 1, 0, 0, 1, 1, 0, 0, 1, 1, 0,\n",
       "       1, 0, 0, 1, 0, 0, 1, 0, 1, 1, 0, 0, 1, 1, 0, 0, 1, 0, 1, 0, 0, 0,\n",
       "       0, 0, 0, 1, 1, 1, 0, 1, 0, 0, 1, 1, 1, 1, 0, 0, 0, 1, 0, 1, 1, 1,\n",
       "       1, 0, 1, 0, 1, 0, 0, 1, 0, 1, 1, 1, 0, 1, 0, 1, 0, 1, 0, 1, 1, 1,\n",
       "       0, 0, 1, 1, 0, 1, 0, 1, 0, 1, 0, 1, 1, 0, 1, 0, 0, 0, 1, 1, 1, 1,\n",
       "       1, 0, 1, 0, 1, 0, 1, 1, 1, 0, 1, 1, 0, 1, 1, 0, 0, 1, 0, 0, 1, 0,\n",
       "       1, 1, 0, 1, 1, 0, 1, 0, 0, 1, 0, 0, 0, 1, 0, 1, 1, 0, 0, 1, 1, 1,\n",
       "       0, 0, 1, 0, 1, 0, 0, 1, 1, 0, 1, 0, 1, 1, 0, 0, 0, 1, 1, 0, 0, 1,\n",
       "       0, 1, 1, 0, 1, 0, 1, 1, 1, 0, 0, 1, 0, 0, 0, 1, 1, 0, 0, 1, 0, 1,\n",
       "       0, 1, 0, 1, 0, 0, 0, 0, 1, 0, 0, 0, 1, 1, 1, 0, 0, 1, 0, 1, 0, 1,\n",
       "       1, 0, 1, 0, 1, 1, 1, 1, 0, 0, 1, 0, 0, 1, 1, 1, 0, 1, 1, 0, 1, 1,\n",
       "       1, 1, 0, 0, 0, 0, 0, 1, 1, 0, 0, 0, 0, 0, 1, 0, 1, 1, 0, 0, 1, 1,\n",
       "       0, 0, 1, 1, 1, 1, 1, 1, 0, 0, 0, 1, 1, 0, 1, 1, 0, 1, 0, 1, 0, 0,\n",
       "       1, 0, 0, 0, 0, 0, 1, 0, 1, 0, 0, 1, 0, 0, 0, 1, 0, 1, 0, 0, 0, 1,\n",
       "       1, 1, 1, 0, 0, 0, 0, 0, 0, 1, 1, 1, 0, 0, 1, 1, 1, 0, 1, 0, 0, 0,\n",
       "       1, 0, 1, 1, 0, 0, 1, 1, 1, 1, 1, 0, 0, 1, 1, 0, 0, 0, 0, 1, 1, 1,\n",
       "       0, 1, 1, 0, 1, 1, 1, 0, 0, 1, 1, 0, 1, 0, 1, 1, 1, 1, 0, 0, 1, 1,\n",
       "       0, 0, 0, 1, 1, 0, 0, 0, 0, 1])"
      ]
     },
     "execution_count": 5,
     "metadata": {},
     "output_type": "execute_result"
    }
   ],
   "source": [
    "y_train"
   ]
  },
  {
   "cell_type": "code",
   "execution_count": 6,
   "id": "f4a1e985",
   "metadata": {},
   "outputs": [
    {
     "data": {
      "text/plain": [
       "array([0, 0, 0, 0, 0, 0, 0, 1, 1, 1, 1, 0, 0, 0, 0, 0, 0, 0, 0, 0, 0, 0,\n",
       "       0, 1, 1, 1, 1, 1, 0, 1, 1, 1, 0, 0, 0, 0, 0, 0, 0, 0, 0, 0, 0, 0,\n",
       "       1, 1, 1, 1, 1, 1, 1, 1, 1, 0, 0, 0, 0, 0, 0, 0, 0, 0, 0, 0, 0, 0,\n",
       "       0, 0, 1, 1, 1, 1, 1, 1, 1, 1, 1, 1, 1, 1, 0, 0, 0, 0, 0, 0, 0, 0,\n",
       "       0, 0, 0, 0, 1, 1, 1, 1, 1, 1, 1, 1, 1, 1, 1, 1, 1, 1, 0, 0, 0, 0,\n",
       "       0, 0, 0, 0, 0, 0, 0, 0, 0, 0, 0, 0, 1, 1, 1, 1, 1, 1, 1, 1, 0, 1,\n",
       "       1, 1, 0, 0, 0, 0, 0, 0, 0, 0, 0, 0, 0, 0, 0, 0, 0, 1, 1, 1, 1, 1,\n",
       "       1, 1, 1, 1, 1, 1, 1, 0, 0, 0, 0, 0, 0, 0, 0, 0, 0, 0, 0, 0, 0, 1,\n",
       "       1, 1, 1, 1, 1, 1, 1, 1, 1, 1, 0, 0, 0, 0, 0, 0, 0, 0, 0, 0, 0, 1,\n",
       "       1, 1, 1, 1, 1, 1, 1, 1, 1, 1, 1, 0, 0, 0, 0, 0, 0, 0, 0, 0, 0, 0,\n",
       "       1, 1, 1, 1, 1, 1, 1, 1, 1, 1, 0, 0, 0, 0, 0, 0, 0, 0, 0, 0, 0, 0,\n",
       "       0, 0, 0, 0, 0, 1, 1, 1, 1, 1, 1, 1, 1, 1, 1, 1, 0, 0, 0, 0, 0, 0,\n",
       "       0, 0, 1, 1, 1, 1, 1, 1, 1, 1, 1, 0, 0, 0, 0, 0, 0, 0, 0, 0, 0, 0,\n",
       "       0, 0, 0, 1, 1, 1, 1, 1, 1, 1, 1, 1, 1, 1, 1, 0, 0, 0, 0, 0, 0, 0,\n",
       "       0, 0, 0, 0, 0, 1, 1, 1, 1, 1, 1, 1, 1, 1, 1, 1, 0, 0, 0, 0, 0, 0,\n",
       "       0, 0, 0, 0, 0, 0, 0, 0, 1, 1, 1, 1, 1, 1, 1, 1, 1, 1, 1, 1, 0, 0,\n",
       "       0, 0, 0, 0, 0, 0, 0, 0, 0, 1, 1, 1, 1, 1, 1, 1, 1, 1, 1, 1, 0, 0,\n",
       "       0, 0, 0, 0, 0, 0, 0, 0, 0, 0])"
      ]
     },
     "execution_count": 6,
     "metadata": {},
     "output_type": "execute_result"
    }
   ],
   "source": [
    "y_test"
   ]
  },
  {
   "cell_type": "markdown",
   "id": "00cae00c",
   "metadata": {},
   "source": [
    "### energy function using Bernoulli likelihood and sigmoid link function"
   ]
  },
  {
   "cell_type": "code",
   "execution_count": 7,
   "id": "d1d66825",
   "metadata": {},
   "outputs": [],
   "source": [
    "def sigmoid(z):\n",
    "    return 1/(1+np.exp(-z))\n",
    "\n",
    "def e_func(w, X, t):\n",
    "    total = 0\n",
    "    for i, X_i in enumerate(X):\n",
    "        pred = w.T@X_i\n",
    "        sig_pred = sigmoid(pred)\n",
    "        ans = t[i] * np.log(sig_pred) + (1-t[i]) * np.log(1-sig_pred)\n",
    "        total += ans\n",
    "    \n",
    "    return -total\n",
    "        \n",
    "def e_grad(w, X, t):\n",
    "    ans = np.sum((t-sigmoid(X@w)).reshape(-1, 1)*X, axis=0)\n",
    "    return -ans"
   ]
  },
  {
   "cell_type": "code",
   "execution_count": 8,
   "id": "d5a9bedb",
   "metadata": {},
   "outputs": [],
   "source": [
    "X = X_train\n",
    "t = y_train"
   ]
  },
  {
   "cell_type": "code",
   "execution_count": 9,
   "id": "9d01cc83",
   "metadata": {},
   "outputs": [
    {
     "name": "stdout",
     "output_type": "stream",
     "text": [
      "[0. 0. 0. 0. 0. 0. 0. 0.]\n",
      "Calc.         Numeric       Delta         Acc.\n",
      "     -146.86       -146.86  \u001b[37m 2.853218e-08\u001b[0m  10\n",
      "     153.219       153.219  \u001b[37m 3.354142e-07\u001b[0m   9\n",
      "    -53.1448      -53.1448  \u001b[37m-1.457336e-07\u001b[0m   9\n",
      "     175.673       175.673  \u001b[37m 1.607642e-07\u001b[0m  10\n",
      "    -180.334      -180.334  \u001b[37m 2.863047e-07\u001b[0m   9\n",
      "      -7.231        -7.231  \u001b[37m-1.041556e-07\u001b[0m   8\n",
      "    -16.1591      -16.1591  \u001b[37m-1.344711e-07\u001b[0m   9\n",
      "    -11.4549      -11.4549  \u001b[37m-5.758758e-08\u001b[0m   9\n"
     ]
    }
   ],
   "source": [
    "w = np.zeros(8)\n",
    "print(w)\n",
    "hmc.gradient_check(w, e_func, e_grad, X, t)"
   ]
  },
  {
   "cell_type": "code",
   "execution_count": 10,
   "id": "7359f4d3",
   "metadata": {},
   "outputs": [
    {
     "name": "stderr",
     "output_type": "stream",
     "text": [
      "<ipython-input-7-a6250d6b7f0d>:9: RuntimeWarning: divide by zero encountered in log\n",
      "  ans = t[i] * np.log(sig_pred) + (1-t[i]) * np.log(1-sig_pred)\n",
      "<ipython-input-7-a6250d6b7f0d>:9: RuntimeWarning: invalid value encountered in multiply\n",
      "  ans = t[i] * np.log(sig_pred) + (1-t[i]) * np.log(1-sig_pred)\n"
     ]
    },
    {
     "name": "stdout",
     "output_type": "stream",
     "text": [
      "|----------|  0% accepted [ 48 secs to go ]\n",
      "|#---------| 96% accepted [ 43 secs to go ]\n",
      "|##--------| 96% accepted [ 39 secs to go ]\n",
      "|###-------| 96% accepted [ 34 secs to go ]\n",
      "|####------| 95% accepted [ 29 secs to go ]\n",
      "|#####-----| 95% accepted [ 24 secs to go ]\n",
      "|######----| 95% accepted [ 19 secs to go ]\n",
      "|#######---| 95% accepted [ 14 secs to go ]\n",
      "|########--| 95% accepted [ 10 secs to go ]\n",
      "|#########-| 95% accepted [ 5 secs to go ]\n",
      "|##########| 95% accepted [ 0 secs to go ]\n",
      "HMC: R=10000 / L=100 / eps=0.009 / Accept=94.6%\n"
     ]
    }
   ],
   "source": [
    "np.random.seed(seed=1)  # For reproducibility\n",
    "R = 10000\n",
    "burn = int(R/10)\n",
    "L = 100\n",
    "eps = 0.009\n",
    "\n",
    "S, *_ = hmc.sample(w, e_func, e_grad, R, L, eps, burn=burn, checkgrad=False, args=[X, t])"
   ]
  },
  {
   "cell_type": "code",
   "execution_count": 11,
   "id": "92d33411",
   "metadata": {},
   "outputs": [],
   "source": [
    "w_mean_opt = np.mean(S, axis=0)\n",
    "y_test_pred = sigmoid(X_test@w_mean_opt)"
   ]
  },
  {
   "cell_type": "code",
   "execution_count": 12,
   "id": "07711dcf",
   "metadata": {},
   "outputs": [
    {
     "data": {
      "text/plain": [
       "array([-3.41380133e+00, -8.02626563e+01,  3.86706567e+01,  7.54747848e+01,\n",
       "        1.05039392e+01,  2.17647135e-01,  7.44493297e+00,  2.40076378e-03])"
      ]
     },
     "execution_count": 12,
     "metadata": {},
     "output_type": "execute_result"
    }
   ],
   "source": [
    "w_mean_opt"
   ]
  },
  {
   "cell_type": "code",
   "execution_count": 13,
   "id": "1cd8b47d",
   "metadata": {},
   "outputs": [],
   "source": [
    "for i, y in enumerate(y_test_pred):\n",
    "    if y > 0.5:\n",
    "        y_test_pred[i] = 1\n",
    "    else:\n",
    "        y_test_pred[i] = 0"
   ]
  },
  {
   "cell_type": "code",
   "execution_count": 14,
   "id": "64db7775",
   "metadata": {},
   "outputs": [
    {
     "name": "stdout",
     "output_type": "stream",
     "text": [
      "test classification rate = 0.9921875\n"
     ]
    }
   ],
   "source": [
    "print(\"test classification rate =\", accuracy_score(y_test, y_test_pred))"
   ]
  },
  {
   "cell_type": "code",
   "execution_count": null,
   "id": "d011ca1a",
   "metadata": {},
   "outputs": [],
   "source": []
  }
 ],
 "metadata": {
  "kernelspec": {
   "display_name": "Python 3",
   "language": "python",
   "name": "python3"
  },
  "language_info": {
   "codemirror_mode": {
    "name": "ipython",
    "version": 3
   },
   "file_extension": ".py",
   "mimetype": "text/x-python",
   "name": "python",
   "nbconvert_exporter": "python",
   "pygments_lexer": "ipython3",
   "version": "3.8.8"
  }
 },
 "nbformat": 4,
 "nbformat_minor": 5
}
