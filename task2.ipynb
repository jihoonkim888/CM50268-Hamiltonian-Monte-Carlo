{
 "cells": [
  {
   "cell_type": "code",
   "execution_count": 1,
   "id": "f32b8830",
   "metadata": {},
   "outputs": [],
   "source": [
    "%matplotlib inline\n",
    "import numpy as np\n",
    "import pandas as pd\n",
    "import matplotlib.pyplot as plt\n",
    "from scipy import stats\n",
    "from sklearn.preprocessing import StandardScaler\n",
    "from sklearn.metrics import mean_squared_error\n",
    "from tqdm import tqdm"
   ]
  },
  {
   "cell_type": "code",
   "execution_count": 2,
   "id": "2a931a24",
   "metadata": {},
   "outputs": [],
   "source": [
    "df_train = pd.read_csv('ee-train.csv')\n",
    "df_test = pd.read_csv('ee-test.csv')"
   ]
  },
  {
   "cell_type": "code",
   "execution_count": 3,
   "id": "dbdf5c41",
   "metadata": {},
   "outputs": [],
   "source": [
    "X_train = np.array(df_train.iloc[:, :-1])\n",
    "y_train = np.array(df_train.iloc[:, -1])\n",
    "X_test = np.array(df_test.iloc[:, :-1])\n",
    "y_test = np.array(df_test.iloc[:, -1])\n",
    "\n",
    "scaler = StandardScaler() # Standardise input variables\n",
    "\n",
    "X_train = scaler.fit_transform(X_train)\n",
    "X_test = scaler.transform(X_test)"
   ]
  },
  {
   "cell_type": "code",
   "execution_count": 4,
   "id": "5ebddc70",
   "metadata": {},
   "outputs": [
    {
     "data": {
      "text/plain": [
       "(384, 8)"
      ]
     },
     "execution_count": 4,
     "metadata": {},
     "output_type": "execute_result"
    }
   ],
   "source": [
    "X_train.shape"
   ]
  },
  {
   "cell_type": "code",
   "execution_count": 5,
   "id": "10e3227a",
   "metadata": {
    "scrolled": true
   },
   "outputs": [
    {
     "data": {
      "text/plain": [
       "(384,)"
      ]
     },
     "execution_count": 5,
     "metadata": {},
     "output_type": "execute_result"
    }
   ],
   "source": [
    "y_train.shape"
   ]
  },
  {
   "cell_type": "code",
   "execution_count": 6,
   "id": "375e8b38",
   "metadata": {},
   "outputs": [
    {
     "data": {
      "text/plain": [
       "array([12.74, 29.68, 36.57, 38.57, 34.72, 16.99, 15.19, 28.56, 14.51,\n",
       "       25.27])"
      ]
     },
     "execution_count": 6,
     "metadata": {},
     "output_type": "execute_result"
    }
   ],
   "source": [
    "y_train[:10]"
   ]
  },
  {
   "cell_type": "code",
   "execution_count": 7,
   "id": "cb77268b",
   "metadata": {},
   "outputs": [
    {
     "data": {
      "text/plain": [
       "array([15.55, 15.55, 20.71, 19.68, 19.34, 17.05, 15.98, 29.63, 24.77,\n",
       "       23.93])"
      ]
     },
     "execution_count": 7,
     "metadata": {},
     "output_type": "execute_result"
    }
   ],
   "source": [
    "y_test[:10]"
   ]
  },
  {
   "cell_type": "markdown",
   "id": "89309189",
   "metadata": {},
   "source": [
    "# Task 2a"
   ]
  },
  {
   "cell_type": "markdown",
   "id": "ca037189",
   "metadata": {},
   "source": [
    "### ORIGINAL"
   ]
  },
  {
   "cell_type": "code",
   "execution_count": 8,
   "id": "6467d250",
   "metadata": {},
   "outputs": [],
   "source": [
    "def compute_posterior(PHI, y, alph, s2):\n",
    "    #\n",
    "    #### **** YOUR CODE HERE **** ####\n",
    "    #\n",
    "    # posterior mean Mu and cov SIGMA with basis matrix PHI\n",
    "    # and width hyperparam alph and s2\n",
    "    # where alph = lam/s2\n",
    "\n",
    "    SIGMA = np.linalg.inv(alph*np.eye(PHI.shape[0]) + (1/s2)*PHI.T@PHI)\n",
    "    Mu = (1/s2)*SIGMA@PHI.T@y\n",
    "    \n",
    "    return Mu, SIGMA"
   ]
  },
  {
   "cell_type": "code",
   "execution_count": 9,
   "id": "2bf4ae60",
   "metadata": {},
   "outputs": [],
   "source": [
    "def compute_log_marginal(PHI, y, alph, s2):\n",
    "    #\n",
    "    #### **** YOUR CODE HERE **** ####\n",
    "    #\n",
    "    Mu, SIGMA = compute_posterior(PHI, y, alph, s2)\n",
    "    N = PHI.shape[0]\n",
    "    M = PHI.shape[1]\n",
    "#     lgp = stats.multivariate_normal.logpdf()\n",
    "    E_m_N = 1/(s2*2) * np.linalg.norm(y-PHI@Mu)**2 + alph/2*Mu.T@Mu\n",
    "    lgp = 0.5*M*np.log(alph) + 0.5*N*np.log(1/s2) - E_m_N - 0.5*np.log(np.linalg.det(np.linalg.inv(SIGMA))) - 0.5*N*np.log(2*np.pi)\n",
    "    return lgp\n",
    "\n"
   ]
  },
  {
   "cell_type": "markdown",
   "id": "94f1d53f",
   "metadata": {},
   "source": [
    "### MODIFIED"
   ]
  },
  {
   "cell_type": "code",
   "execution_count": 10,
   "id": "56fbbbc3",
   "metadata": {},
   "outputs": [],
   "source": [
    "# def compute_posterior(X, y, sigma_w_2, sigma_n_2):\n",
    "#     SIGMA = np.linalg.inv((1/sigma_w_2)*np.eye(X.shape[1]) + (1/sigma_n_2)*X.T@X)\n",
    "#     Mu = (1/sigma_n_2)*SIGMA@X.T@y\n",
    "    \n",
    "# #     N = X.shape[0]\n",
    "# #     shared = np.linalg.inv(X.T@X + sigma_n_2*sigma_w_2*np.eye(N))\n",
    "# #     Mu = shared@X.T@y\n",
    "# #     SIGMA = sigma_n_2*shared\n",
    "#     return Mu, SIGMA\n",
    "\n",
    "# def compute_log_marginal(X, y, sigma_w_2, sigma_n_2):\n",
    "\n",
    "#     Mu, SIGMA = compute_posterior(X, y, sigma_w_2, sigma_n_2)\n",
    "#     N = X.shape[0]\n",
    "#     M = X.shape[1]\n",
    "# #     lgp = stats.multivariate_normal.logpdf()\n",
    "#     E_m_N = 1/(sigma_n_2*2) * np.linalg.norm(y-X@Mu)**2 + (1/sigma_w_2)/2*Mu.T@Mu\n",
    "#     lgp = 0.5*M*np.log((1/sigma_w_2)) + 0.5*N*np.log(1/sigma_n_2) - E_m_N - 0.5*np.log(np.linalg.det(np.linalg.inv(SIGMA))) - 0.5*N*np.log(2*np.pi)\n",
    "#     return lgp"
   ]
  },
  {
   "cell_type": "markdown",
   "id": "115028cc",
   "metadata": {},
   "source": [
    "### NEW VERSION"
   ]
  },
  {
   "cell_type": "code",
   "execution_count": 11,
   "id": "e72a7c3a",
   "metadata": {},
   "outputs": [
    {
     "data": {
      "text/plain": [
       "-10266828.784337511"
      ]
     },
     "execution_count": 11,
     "metadata": {},
     "output_type": "execute_result"
    }
   ],
   "source": [
    "### USING ZERO-MEAN GAUSSIAN CONCEPT\n",
    "\n",
    "def compute_log_marginal(X, y, sigma_n_2, sigma_w_2): # p(y|sigma_n_2, sigma_w_2)\n",
    "    N = X.shape[0]\n",
    "    cov = sigma_n_2*np.eye(N) + sigma_w_2*X@X.T\n",
    "    return stats.multivariate_normal.logpdf(y, mean=None, cov=cov, allow_singular=True)\n",
    "    \n",
    "compute_log_marginal(X_train, y_train, 0.01, 0.01)"
   ]
  },
  {
   "cell_type": "markdown",
   "id": "9c9609a5",
   "metadata": {},
   "source": [
    "### Hyperparameter grid"
   ]
  },
  {
   "cell_type": "code",
   "execution_count": 12,
   "id": "57cd022f",
   "metadata": {},
   "outputs": [
    {
     "name": "stderr",
     "output_type": "stream",
     "text": [
      "100%|██████████| 100/100 [02:55<00:00,  1.75s/it]\n"
     ]
    }
   ],
   "source": [
    "sigma_n_2_power_grid = np.linspace(-10, 10, 100)\n",
    "sigma_w_2_power_grid = np.linspace(-10, 10, 100)\n",
    "\n",
    "log_prob_list = []\n",
    "\n",
    "for power_sigma_n_2 in tqdm(sigma_n_2_power_grid):\n",
    "    for power_sigma_w_2 in sigma_w_2_power_grid:\n",
    "        log_prob = compute_log_marginal(X_train, y_train, 10**power_sigma_n_2, 10**power_sigma_w_2)\n",
    "        log_prob_list.append(log_prob)"
   ]
  },
  {
   "cell_type": "code",
   "execution_count": 13,
   "id": "d572e5dd",
   "metadata": {},
   "outputs": [],
   "source": [
    "# prob_list to 2d shape\n",
    "log_prob_list = np.array(log_prob_list).reshape(100, 100)"
   ]
  },
  {
   "cell_type": "code",
   "execution_count": 14,
   "id": "37097a07",
   "metadata": {},
   "outputs": [
    {
     "data": {
      "text/plain": [
       "2356"
      ]
     },
     "execution_count": 14,
     "metadata": {},
     "output_type": "execute_result"
    }
   ],
   "source": [
    "np.argmax(log_prob_list)"
   ]
  },
  {
   "cell_type": "code",
   "execution_count": 15,
   "id": "bd0df025",
   "metadata": {},
   "outputs": [
    {
     "name": "stdout",
     "output_type": "stream",
     "text": [
      "(23, 56)\n"
     ]
    }
   ],
   "source": [
    "i_max = np.unravel_index(np.argmax(log_prob_list), log_prob_list.shape)\n",
    "print(i_max)"
   ]
  },
  {
   "cell_type": "code",
   "execution_count": 16,
   "id": "feee6446",
   "metadata": {},
   "outputs": [],
   "source": [
    "power_sigma_n_2_opt = sigma_n_2_power_grid[i_max[0]]\n",
    "power_sigma_w_2_opt = sigma_w_2_power_grid[i_max[1]]"
   ]
  },
  {
   "cell_type": "code",
   "execution_count": 17,
   "id": "e5de8f67",
   "metadata": {},
   "outputs": [
    {
     "name": "stdout",
     "output_type": "stream",
     "text": [
      "Optimal: \n",
      "power_sigma_n_2 = -5.353535353535354 \n",
      "power_sigma_w_2 = 1.3131313131313131 \n",
      "sigma_n_2 = 4.430621457583877e-06 \n",
      "sigma_w_2 = 20.565123083486515 \n",
      "log_prob = -37.95516967686765\n"
     ]
    }
   ],
   "source": [
    "print(\"Optimal: \\npower_sigma_n_2 = {} \\npower_sigma_w_2 = {} \\nsigma_n_2 = {} \\nsigma_w_2 = {} \\nlog_prob = {}\"\\\n",
    "      .format(power_sigma_n_2_opt, power_sigma_w_2_opt,\\\n",
    "              10**power_sigma_n_2_opt, 10**power_sigma_w_2_opt,\\\n",
    "              log_prob_list[i_max]))"
   ]
  },
  {
   "cell_type": "code",
   "execution_count": 18,
   "id": "0c173eb2",
   "metadata": {},
   "outputs": [
    {
     "data": {
      "image/png": "[encoded data removed]",
      "text/plain": [
       "<Figure size 432x288 with 2 Axes>"
      ]
     },
     "metadata": {
      "needs_background": "light"
     },
     "output_type": "display_data"
    }
   ],
   "source": [
    "plt.contourf(sigma_n_2_power_grid, sigma_w_2_power_grid, log_prob_list) #[X, Y], Z\n",
    "plt.scatter(power_sigma_n_2_opt, power_sigma_w_2_opt, color='red')\n",
    "plt.title(r\"$log (y \\mid \\sigma_w^2, \\sigma_n^2)$\")\n",
    "plt.xlabel(r\"$log_{10} (\\sigma_w^2)$\")\n",
    "plt.ylabel(r\"$log_{10} (\\sigma_n^2)$\")\n",
    "plt.colorbar()\n",
    "plt.show()\n",
    "\n",
    "# plt.contourf(alph_power_grid, r_power_grid, prob_y) #[X, Y], Z\n",
    "# plt.title(\"prob_y\")\n",
    "# plt.xlabel(r\"$log_{10} (\\alpha)$\")\n",
    "# plt.ylabel(r\"$log_{10} (r)$\")\n",
    "# plt.colorbar()\n",
    "# plt.show()"
   ]
  },
  {
   "cell_type": "code",
   "execution_count": 19,
   "id": "14238f36",
   "metadata": {},
   "outputs": [
    {
     "data": {
      "image/png": "[encoded data removed]",
      "text/plain": [
       "<Figure size 432x288 with 2 Axes>"
      ]
     },
     "metadata": {
      "needs_background": "light"
     },
     "output_type": "display_data"
    }
   ],
   "source": [
    "\n",
    "plt.contourf(sigma_n_2_power_grid[20:30], sigma_w_2_power_grid[50:60], log_prob_list[20:30, 50:60]) #[X, Y], Z\n",
    "plt.title(r\"$log (y \\mid \\sigma_w^2, \\sigma_n^2)$\")\n",
    "plt.xlabel(r\"$log_{10} (\\sigma_w^2)$\")\n",
    "plt.ylabel(r\"$log_{10} (\\sigma_n^2)$\")\n",
    "plt.colorbar()\n",
    "plt.show()"
   ]
  },
  {
   "cell_type": "code",
   "execution_count": 20,
   "id": "671bc995",
   "metadata": {},
   "outputs": [
    {
     "data": {
      "text/plain": [
       "-37.95516967686765"
      ]
     },
     "execution_count": 20,
     "metadata": {},
     "output_type": "execute_result"
    }
   ],
   "source": [
    "np.max(log_prob_list[20:30, 50:60])"
   ]
  },
  {
   "cell_type": "code",
   "execution_count": 21,
   "id": "a7869ae5",
   "metadata": {},
   "outputs": [],
   "source": [
    "sigma_n_2_power_grid_mag = np.linspace(-6, -4, 100)\n",
    "sigma_w_2_power_grid_mag = np.linspace(1, 2, 100)\n",
    "\n",
    "log_prob_list_mag = []\n",
    "\n",
    "for power_sigma_n_2 in sigma_n_2_power_grid_mag:\n",
    "    for power_sigma_w_2 in sigma_w_2_power_grid_mag:\n",
    "        log_prob = compute_log_marginal(X_train, y_train, 10**power_sigma_n_2, 10**power_sigma_w_2)\n",
    "        log_prob_list_mag.append(log_prob)"
   ]
  },
  {
   "cell_type": "code",
   "execution_count": 22,
   "id": "836e135f",
   "metadata": {},
   "outputs": [],
   "source": [
    "# prob_list to 2d shape\n",
    "log_prob_list_mag = np.array(log_prob_list_mag).reshape(100, 100)"
   ]
  },
  {
   "cell_type": "code",
   "execution_count": 23,
   "id": "79c07ef3",
   "metadata": {
    "scrolled": true
   },
   "outputs": [
    {
     "name": "stdout",
     "output_type": "stream",
     "text": [
      "(40, 32)\n"
     ]
    }
   ],
   "source": [
    "i_max_mag = np.unravel_index(np.argmax(log_prob_list_mag), log_prob_list_mag.shape)\n",
    "print(i_max_mag)"
   ]
  },
  {
   "cell_type": "code",
   "execution_count": 24,
   "id": "89d4a557",
   "metadata": {},
   "outputs": [
    {
     "data": {
      "text/plain": [
       "-37.95497240664166"
      ]
     },
     "execution_count": 24,
     "metadata": {},
     "output_type": "execute_result"
    }
   ],
   "source": [
    "log_prob_list_mag[i_max_mag]"
   ]
  },
  {
   "cell_type": "code",
   "execution_count": 25,
   "id": "e0e4fc6b",
   "metadata": {},
   "outputs": [],
   "source": [
    "power_sigma_n_2_opt_mag = sigma_n_2_power_grid_mag[i_max_mag[0]]\n",
    "power_sigma_w_2_opt_mag = sigma_w_2_power_grid_mag[i_max_mag[1]]"
   ]
  },
  {
   "cell_type": "code",
   "execution_count": 26,
   "id": "4b7750bb",
   "metadata": {},
   "outputs": [
    {
     "data": {
      "image/png": "[encoded data removed]",
      "text/plain": [
       "<Figure size 432x288 with 2 Axes>"
      ]
     },
     "metadata": {
      "needs_background": "light"
     },
     "output_type": "display_data"
    }
   ],
   "source": [
    "plt.contourf(sigma_n_2_power_grid_mag, sigma_w_2_power_grid_mag, log_prob_list_mag) #[X, Y], Z\n",
    "plt.scatter(power_sigma_n_2_opt_mag, power_sigma_w_2_opt_mag, c='red')\n",
    "plt.title(r\"$log (y \\mid \\sigma_w^2, \\sigma_n^2)$, magnified\")\n",
    "plt.xlabel(r\"$log_{10} (\\sigma_w^2)$\")\n",
    "plt.ylabel(r\"$log_{10} (\\sigma_n^2)$\")\n",
    "plt.colorbar()\n",
    "plt.show()"
   ]
  },
  {
   "cell_type": "code",
   "execution_count": 27,
   "id": "e0af2181",
   "metadata": {},
   "outputs": [
    {
     "name": "stdout",
     "output_type": "stream",
     "text": [
      "Optimal: \n",
      "sigma_n_2_opt = 6.4280731172843194e-06 \n",
      "sigma_w_2_opt = 21.049041445120206\n"
     ]
    }
   ],
   "source": [
    "sigma_n_2_opt = 10**power_sigma_n_2_opt_mag\n",
    "sigma_w_2_opt = 10**power_sigma_w_2_opt_mag\n",
    "\n",
    "print(\"Optimal: \\nsigma_n_2_opt = {} \\nsigma_w_2_opt = {}\".format(sigma_n_2_opt, sigma_w_2_opt))"
   ]
  },
  {
   "cell_type": "markdown",
   "id": "c28fc809",
   "metadata": {},
   "source": [
    "### Predictions and RMSE"
   ]
  },
  {
   "cell_type": "code",
   "execution_count": 28,
   "id": "c0666f8c",
   "metadata": {},
   "outputs": [],
   "source": [
    "# def get_w(X, y, sigma_n_2, sigma_w_2):\n",
    "#     return np.linalg.inv(X.T@X + sigma_n_2*(1/sigma_w_2)*np.eye(X.shape[1]))@X.T@y"
   ]
  },
  {
   "cell_type": "code",
   "execution_count": 29,
   "id": "dc7b0228",
   "metadata": {},
   "outputs": [],
   "source": [
    "def get_w(X, y, sigma_n_2, sigma_w_2):\n",
    "    return np.linalg.inv(X.T@X + (1/sigma_w_2)*np.eye(X.shape[1]))@X.T@y"
   ]
  },
  {
   "cell_type": "code",
   "execution_count": 30,
   "id": "36885d05",
   "metadata": {},
   "outputs": [
    {
     "data": {
      "text/plain": [
       "array([-7.09783611, -3.84796275,  0.77760774, -4.14950714,  7.24533858,\n",
       "       -0.12556796,  2.77066872,  0.2034831 ])"
      ]
     },
     "execution_count": 30,
     "metadata": {},
     "output_type": "execute_result"
    }
   ],
   "source": [
    "w = get_w(X_train, y_train, sigma_n_2_opt, sigma_w_2_opt)\n",
    "w"
   ]
  },
  {
   "cell_type": "code",
   "execution_count": 31,
   "id": "5badebd3",
   "metadata": {},
   "outputs": [],
   "source": [
    "y_intercept = y_train.mean()"
   ]
  },
  {
   "cell_type": "code",
   "execution_count": 32,
   "id": "936dd78d",
   "metadata": {},
   "outputs": [],
   "source": [
    "y_test_pred = X_test@w + y_intercept"
   ]
  },
  {
   "cell_type": "code",
   "execution_count": 33,
   "id": "f1da9207",
   "metadata": {},
   "outputs": [
    {
     "data": {
      "image/png": "[encoded data removed]",
      "text/plain": [
       "<Figure size 432x288 with 1 Axes>"
      ]
     },
     "metadata": {
      "needs_background": "light"
     },
     "output_type": "display_data"
    }
   ],
   "source": [
    "plt.hist(y_test_pred, bins=20)\n",
    "plt.show()"
   ]
  },
  {
   "cell_type": "code",
   "execution_count": 34,
   "id": "7347ec94",
   "metadata": {},
   "outputs": [
    {
     "data": {
      "text/plain": [
       "array([22.53819246, 22.42365079, 24.93578358, 24.82124192, 23.81239499,\n",
       "       26.09069639, 25.74707138, 27.2438283 , 32.02773354, 31.91319187])"
      ]
     },
     "execution_count": 34,
     "metadata": {},
     "output_type": "execute_result"
    }
   ],
   "source": [
    "y_test_pred[:10]"
   ]
  },
  {
   "cell_type": "code",
   "execution_count": 35,
   "id": "e7dc8ca5",
   "metadata": {},
   "outputs": [
    {
     "name": "stdout",
     "output_type": "stream",
     "text": [
      "test RMSE = 2.843446999367912\n"
     ]
    }
   ],
   "source": [
    "rmse_test = mean_squared_error(y_test, y_test_pred, squared=False)\n",
    "print(\"test RMSE =\", rmse_test)"
   ]
  },
  {
   "cell_type": "code",
   "execution_count": 36,
   "id": "6fad5143",
   "metadata": {},
   "outputs": [],
   "source": [
    "def error_histogram(y_pred, y_targ):\n",
    "    error_list = y_pred.reshape(-1, 1) - y_targ.reshape(-1, 1)\n",
    "    plt.hist(error_list, bins=20)\n",
    "    plt.xlabel(\"Error\")\n",
    "    plt.ylabel(\"Number of samples in the bin\")\n",
    "    plt.show()"
   ]
  },
  {
   "cell_type": "code",
   "execution_count": 37,
   "id": "99006c0e",
   "metadata": {},
   "outputs": [
    {
     "data": {
      "image/png": "[encoded data removed]",
      "text/plain": [
       "<Figure size 432x288 with 1 Axes>"
      ]
     },
     "metadata": {
      "needs_background": "light"
     },
     "output_type": "display_data"
    }
   ],
   "source": [
    "error_histogram(y_test_pred, y_test)"
   ]
  },
  {
   "cell_type": "markdown",
   "id": "b224ff47",
   "metadata": {},
   "source": [
    "# Task 2b"
   ]
  },
  {
   "cell_type": "code",
   "execution_count": 169,
   "id": "b16bf239",
   "metadata": {},
   "outputs": [],
   "source": [
    "def calc_expectation(X, t, sigma_w_2, sigma_n_2):\n",
    "    N = X.shape[0]\n",
    "    M = X.shape[1]\n",
    "    alpha = 1/sigma_w_2\n",
    "    beta = 1/sigma_n_2\n",
    "    \n",
    "    # mean and cov of weights w\n",
    "#     mean = get_w(X, t, sigma_n_2, sigma_w_2)\n",
    "#     cov = sigma_n_2*np.linalg.inv(X.T@X + (1/sigma_w_2)*np.eye(X.shape[1]))\n",
    "    cov = np.linalg.inv(beta*X.T@X + alpha*np.eye(M))\n",
    "    mean = beta*cov@X.T@t\n",
    "    \n",
    "    ans1 = (N/2)*np.log(beta)\n",
    "    ans2 = (beta/2)*(np.linalg.norm(t-X@mean)**2 + np.trace(X@cov@X.T))\n",
    "    ans4 = (M/2)*np.log(alpha)\n",
    "    ans5 = (alpha/2)*(np.linalg.norm(mean)**2 + np.trace(cov))\n",
    "    expectation = ans1 - ans2 + ans4 - ans5\n",
    "\n",
    "    return expectation, mean, cov\n",
    "    \n",
    "def max_Q(X, t, sigma_n_2, sigma_w_2):\n",
    "    N = X.shape[0]\n",
    "    M = X.shape[1]\n",
    "    alpha = 1/sigma_w_2\n",
    "    beta = 1/sigma_n_2\n",
    "    \n",
    "    mean = get_w(X, t, sigma_n_2, sigma_w_2)\n",
    "    cov = sigma_n_2*np.linalg.inv(X.T@X + (1/sigma_w_2)*np.eye(X.shape[1]))\n",
    "    \n",
    "    alpha_next = M / (np.linalg.norm(mean)**2 + np.trace(cov))\n",
    "    beta_next = N / (np.linalg.norm(t-X@mean)**2 + np.trace(X@cov@X.T))\n",
    "    \n",
    "    sigma_w_2_next = 1/alpha_next\n",
    "    sigma_n_2_next = 1/beta_next\n",
    "    \n",
    "    return sigma_w_2_next, sigma_n_2_next, mean"
   ]
  },
  {
   "cell_type": "code",
   "execution_count": 173,
   "id": "fc36d864",
   "metadata": {},
   "outputs": [
    {
     "name": "stderr",
     "output_type": "stream",
     "text": [
      "  0%|          | 2/10000 [00:00<02:06, 79.12it/s]"
     ]
    },
    {
     "name": "stdout",
     "output_type": "stream",
     "text": [
      "Converged at iteration 2\n"
     ]
    },
    {
     "name": "stderr",
     "output_type": "stream",
     "text": [
      "\n"
     ]
    }
   ],
   "source": [
    "it = 10000\n",
    "\n",
    "X = X_train\n",
    "t = y_train\n",
    "\n",
    "# initial values\n",
    "sigma_w_2 = 1.0\n",
    "sigma_n_2 = 1.0\n",
    "\n",
    "expectation_list = []\n",
    "sigma_w_2_list = []\n",
    "sigma_n_2_list = []\n",
    "w_list = []\n",
    "cov_list = []\n",
    "\n",
    "for i in tqdm(range(it)):\n",
    "    expectation_new, mean_new, cov_new = calc_expectation(X, t, sigma_w_2, sigma_n_2)\n",
    "#     print(round(expectation, 4))\n",
    "    if (i!=0) and (expectation_new < expectation_list[-1]): # stop if expectation is not any better\n",
    "        print(f\"Converged at iteration {i}\")\n",
    "        break\n",
    "    expectation = expectation_new\n",
    "    mean = mean_new\n",
    "    cov = cov_new\n",
    "    expectation_list.append(expectation)\n",
    "    sigma_w_2_list.append(sigma_w_2)\n",
    "    sigma_n_2_list.append(sigma_n_2)\n",
    "    sigma_w_2, sigma_n_2, w = max_Q(X, t, sigma_n_2, sigma_w_2)\n",
    "    w_list.append(w)"
   ]
  },
  {
   "cell_type": "code",
   "execution_count": 161,
   "id": "ff1ab933",
   "metadata": {},
   "outputs": [
    {
     "data": {
      "text/plain": [
       "(2, 8)"
      ]
     },
     "execution_count": 161,
     "metadata": {},
     "output_type": "execute_result"
    }
   ],
   "source": [
    "w_list = np.array(w_list)\n",
    "w_list.shape"
   ]
  },
  {
   "cell_type": "code",
   "execution_count": 162,
   "id": "bb685e4b",
   "metadata": {},
   "outputs": [
    {
     "data": {
      "image/png": "[encoded data removed]",
      "text/plain": [
       "<Figure size 432x288 with 1 Axes>"
      ]
     },
     "metadata": {
      "needs_background": "light"
     },
     "output_type": "display_data"
    }
   ],
   "source": [
    "plt.plot(expectation_list);"
   ]
  },
  {
   "cell_type": "code",
   "execution_count": 167,
   "id": "db768173",
   "metadata": {},
   "outputs": [
    {
     "name": "stdout",
     "output_type": "stream",
     "text": [
      "Optimised:\n",
      "sigma_w_2 = 14.369964133852434 sigma_n_2 = 534.4788780633039\n"
     ]
    },
    {
     "data": {
      "text/plain": [
       "array([-7.03675506, -3.80602656,  0.78733353, -4.11285661,  7.26353761,\n",
       "       -0.12574415,  2.77086236,  0.20322217])"
      ]
     },
     "execution_count": 167,
     "metadata": {},
     "output_type": "execute_result"
    }
   ],
   "source": [
    "print(\"Optimised:\")\n",
    "print(\"sigma_w_2 = {} sigma_n_2 = {}\".format(sigma_w_2_list[-1], sigma_n_2_list[-1]))\n",
    "w_list[-1]"
   ]
  },
  {
   "cell_type": "code",
   "execution_count": 164,
   "id": "3e3800f1",
   "metadata": {},
   "outputs": [],
   "source": [
    "y_intercept = y_train.mean()\n",
    "w = w_list[-1]"
   ]
  },
  {
   "cell_type": "code",
   "execution_count": 165,
   "id": "e363dc20",
   "metadata": {},
   "outputs": [
    {
     "data": {
      "image/png": "[encoded data removed]",
      "text/plain": [
       "<Figure size 432x288 with 1 Axes>"
      ]
     },
     "metadata": {
      "needs_background": "light"
     },
     "output_type": "display_data"
    }
   ],
   "source": [
    "rmse_list = []\n",
    "for w in w_list:\n",
    "    y_test_pred = X_test@w + y_intercept\n",
    "    rmse_test = mean_squared_error(y_test, y_test_pred, squared=False)\n",
    "    rmse_list.append(rmse_test)\n",
    "#     print(\"test RMSE =\", rmse_test)\n",
    "\n",
    "plt.plot(rmse_list);"
   ]
  },
  {
   "cell_type": "code",
   "execution_count": 166,
   "id": "ae7178ed",
   "metadata": {},
   "outputs": [
    {
     "data": {
      "text/plain": [
       "2.843404330259348"
      ]
     },
     "execution_count": 166,
     "metadata": {},
     "output_type": "execute_result"
    }
   ],
   "source": [
    "rmse_list[-1]"
   ]
  },
  {
   "cell_type": "markdown",
   "id": "32ef8e8b",
   "metadata": {},
   "source": [
    "# Task 2b Variational"
   ]
  },
  {
   "cell_type": "code",
   "execution_count": 204,
   "id": "8f6e68bb",
   "metadata": {},
   "outputs": [],
   "source": [
    "# w, alpha (1/sigma_w_2), a and b length 8\n",
    "# c and d\n",
    "\n",
    "def log_q_w(X, t, alpha, beta, w):\n",
    "    cov = np.linalg.inv(beta@X.T@X + np.diag(alpha))\n",
    "    mean = beta*cov@X.T@t\n",
    "    log = -0.5*w.T@np.linalg.inv(cov)@w - w.T@np.linalg.inv(cov)@mean\n",
    "    return log, mean, cov # log q, mean and cov of w\n",
    "\n",
    "def log_q_alpha(X, t, alpha, w, a, b):\n",
    "    a_new = a + 0.5\n",
    "    b_new = b + 0.5*w**2\n",
    "    log = a_new*np.sum(np.log(alpha)) - np.sum(b_new*alpha)\n",
    "    return log, a_new, b_new # log alpha, new a and b\n",
    "\n",
    "def log_q_beta(X, t, beta, c, d):\n",
    "    c_new = c + X.shape[0]/2\n",
    "    d_new = d + 1/2*np.linalg.norm(t-X@w)**2\n",
    "    return stats.gamma.logpdf(beta, a=c, scale=d), c_new, d_new\n",
    "    \n",
    "\n"
   ]
  },
  {
   "cell_type": "code",
   "execution_count": 214,
   "id": "0b258527",
   "metadata": {},
   "outputs": [],
   "source": [
    "def calc_q_w(X, t, alpha, beta, w):\n",
    "    cov = np.linalg.inv(beta*X.T@X + np.diag(alpha))\n",
    "    mean = beta*cov@X.T@t\n",
    "    return stats.multivariate_normal.pdf(w, mean=mean, cov=cov, allow_singular=True), mean # q_w and w_new\n",
    "\n",
    "def calc_q_alpha(X, t, alpha, w, a, b):\n",
    "    a_new = a + 0.5\n",
    "    b_new = b + 0.5*w**2\n",
    "    pdf_list = []\n",
    "    alpha_new = []\n",
    "    for i, a in enumerate(alpha):\n",
    "        pdf_list.append(stats.gamma.pdf(alpha, a=a_new, scale=b_new[i]))\n",
    "        alpha_new.append(stats.gamma.mean(a=a_new, scale=b_new[i]))\n",
    "    return np.prod(pdf_list), np.array(alpha_new) # q_alpha and alpha_new\n",
    "\n",
    "def calc_q_beta(X, t, beta, w, c, d):\n",
    "    c_new = c + X.shape[0]/2\n",
    "    d_new = d + 1/2*np.linalg.norm(t-X@w)**2\n",
    "    beta_new = stats.gamma.mean(a=c_new, scale=d_new)\n",
    "    return stats.gamma.pdf(beta, a=c_new, scale=d_new), beta_new # q_beta and beta_new"
   ]
  },
  {
   "cell_type": "code",
   "execution_count": 215,
   "id": "0a9316fd",
   "metadata": {},
   "outputs": [],
   "source": [
    "a = 10**-6\n",
    "b = np.full(8, 10**-6)\n",
    "c = 10**-6\n",
    "d = 10**-6\n",
    "\n",
    "alpha = np.full(8, stats.gamma.mean(a=a, scale=b[0]))\n",
    "beta = stats.gamma.mean(a=c, scale=d)\n",
    "\n",
    "w = np.zeros(8)\n",
    "\n"
   ]
  },
  {
   "cell_type": "code",
   "execution_count": 223,
   "id": "fb79fc6d",
   "metadata": {},
   "outputs": [
    {
     "name": "stderr",
     "output_type": "stream",
     "text": [
      "100%|██████████| 1/1 [00:00<00:00, 202.63it/s]"
     ]
    },
    {
     "name": "stdout",
     "output_type": "stream",
     "text": [
      "0.0\n"
     ]
    },
    {
     "name": "stderr",
     "output_type": "stream",
     "text": [
      "\n"
     ]
    }
   ],
   "source": [
    "it = 1\n",
    "prob_post_list = []\n",
    "for i in tqdm(range(it)):\n",
    "    q_w, w = calc_q_w(X, t, alpha, beta, w)\n",
    "    q_alpha, alpha = calc_q_alpha(X, t, alpha, w, a, b)\n",
    "    q_beta, beta = calc_q_beta(X, t, beta, w, c, d)\n",
    "    prob_post = q_w*q_alpha*q_beta\n",
    "    prob_post_list.append(prob_post)\n",
    "    print(prob_post)"
   ]
  },
  {
   "cell_type": "code",
   "execution_count": 224,
   "id": "ed09a5e6",
   "metadata": {},
   "outputs": [
    {
     "data": {
      "text/plain": [
       "array([-7.23462674, -0.06076964, -1.10335285, -8.17966606,  7.20395135,\n",
       "       -0.12516927,  2.77021895,  0.20406264])"
      ]
     },
     "execution_count": 224,
     "metadata": {},
     "output_type": "execute_result"
    }
   ],
   "source": [
    "w"
   ]
  },
  {
   "cell_type": "code",
   "execution_count": 225,
   "id": "dd10e134",
   "metadata": {},
   "outputs": [],
   "source": [
    "y_test_pred = X_test@w + y_intercept\n",
    "rmse_test = mean_squared_error(y_test, y_test_pred, squared=False)"
   ]
  },
  {
   "cell_type": "code",
   "execution_count": 226,
   "id": "00e5c234",
   "metadata": {},
   "outputs": [
    {
     "data": {
      "text/plain": [
       "2.8435880053809988"
      ]
     },
     "execution_count": 226,
     "metadata": {},
     "output_type": "execute_result"
    }
   ],
   "source": [
    "rmse_test"
   ]
  },
  {
   "cell_type": "code",
   "execution_count": null,
   "id": "a3d155c2",
   "metadata": {},
   "outputs": [],
   "source": []
  }
 ],
 "metadata": {
  "kernelspec": {
   "display_name": "Python 3",
   "language": "python",
   "name": "python3"
  },
  "language_info": {
   "codemirror_mode": {
    "name": "ipython",
    "version": 3
   },
   "file_extension": ".py",
   "mimetype": "text/x-python",
   "name": "python",
   "nbconvert_exporter": "python",
   "pygments_lexer": "ipython3",
   "version": "3.8.8"
  }
 },
 "nbformat": 4,
 "nbformat_minor": 5
}
