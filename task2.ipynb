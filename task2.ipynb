{
 "cells": [
  {
   "cell_type": "code",
   "execution_count": 1,
   "id": "f32b8830",
   "metadata": {},
   "outputs": [],
   "source": [
    "%matplotlib inline\n",
    "import numpy as np\n",
    "import pandas as pd\n",
    "import matplotlib.pyplot as plt\n",
    "from scipy import stats\n",
    "from sklearn.preprocessing import StandardScaler\n",
    "from sklearn.metrics import mean_squared_error\n",
    "from tqdm import tqdm"
   ]
  },
  {
   "cell_type": "code",
   "execution_count": 2,
   "id": "2a931a24",
   "metadata": {},
   "outputs": [],
   "source": [
    "df_train = pd.read_csv('ee-train.csv')\n",
    "df_test = pd.read_csv('ee-test.csv')"
   ]
  },
  {
   "cell_type": "code",
   "execution_count": 3,
   "id": "dbdf5c41",
   "metadata": {},
   "outputs": [],
   "source": [
    "X_train = np.array(df_train.iloc[:, :-1])\n",
    "y_train = np.array(df_train.iloc[:, -1])\n",
    "X_test = np.array(df_test.iloc[:, :-1])\n",
    "y_test = np.array(df_test.iloc[:, -1])\n",
    "\n",
    "scaler = StandardScaler() # Standardise input variables\n",
    "\n",
    "X_train = scaler.fit_transform(X_train)\n",
    "X_test = scaler.transform(X_test)"
   ]
  },
  {
   "cell_type": "code",
   "execution_count": 4,
   "id": "5ebddc70",
   "metadata": {},
   "outputs": [
    {
     "data": {
      "text/plain": [
       "(384, 8)"
      ]
     },
     "execution_count": 4,
     "metadata": {},
     "output_type": "execute_result"
    }
   ],
   "source": [
    "X_train.shape"
   ]
  },
  {
   "cell_type": "code",
   "execution_count": 5,
   "id": "10e3227a",
   "metadata": {
    "scrolled": true
   },
   "outputs": [
    {
     "data": {
      "text/plain": [
       "(384,)"
      ]
     },
     "execution_count": 5,
     "metadata": {},
     "output_type": "execute_result"
    }
   ],
   "source": [
    "y_train.shape"
   ]
  },
  {
   "cell_type": "code",
   "execution_count": 6,
   "id": "375e8b38",
   "metadata": {},
   "outputs": [
    {
     "data": {
      "text/plain": [
       "array([12.74, 29.68, 36.57, 38.57, 34.72, 16.99, 15.19, 28.56, 14.51,\n",
       "       25.27])"
      ]
     },
     "execution_count": 6,
     "metadata": {},
     "output_type": "execute_result"
    }
   ],
   "source": [
    "y_train[:10]"
   ]
  },
  {
   "cell_type": "code",
   "execution_count": 7,
   "id": "cb77268b",
   "metadata": {},
   "outputs": [
    {
     "data": {
      "text/plain": [
       "array([15.55, 15.55, 20.71, 19.68, 19.34, 17.05, 15.98, 29.63, 24.77,\n",
       "       23.93])"
      ]
     },
     "execution_count": 7,
     "metadata": {},
     "output_type": "execute_result"
    }
   ],
   "source": [
    "y_test[:10]"
   ]
  },
  {
   "cell_type": "markdown",
   "id": "89309189",
   "metadata": {},
   "source": [
    "# Task 2a"
   ]
  },
  {
   "cell_type": "markdown",
   "id": "ca037189",
   "metadata": {},
   "source": [
    "### ORIGINAL"
   ]
  },
  {
   "cell_type": "code",
   "execution_count": 8,
   "id": "6467d250",
   "metadata": {},
   "outputs": [],
   "source": [
    "def compute_posterior(PHI, y, alph, s2):\n",
    "    #\n",
    "    #### **** YOUR CODE HERE **** ####\n",
    "    #\n",
    "    # posterior mean Mu and cov SIGMA with basis matrix PHI\n",
    "    # and width hyperparam alph and s2\n",
    "    # where alph = lam/s2\n",
    "\n",
    "    SIGMA = np.linalg.inv(alph*np.eye(PHI.shape[0]) + (1/s2)*PHI.T@PHI)\n",
    "    Mu = (1/s2)*SIGMA@PHI.T@y\n",
    "    \n",
    "    return Mu, SIGMA"
   ]
  },
  {
   "cell_type": "code",
   "execution_count": 9,
   "id": "2bf4ae60",
   "metadata": {},
   "outputs": [],
   "source": [
    "def compute_log_marginal(PHI, y, alph, s2):\n",
    "    #\n",
    "    #### **** YOUR CODE HERE **** ####\n",
    "    #\n",
    "    Mu, SIGMA = compute_posterior(PHI, y, alph, s2)\n",
    "    N = PHI.shape[0]\n",
    "    M = PHI.shape[1]\n",
    "#     lgp = stats.multivariate_normal.logpdf()\n",
    "    E_m_N = 1/(s2*2) * np.linalg.norm(y-PHI@Mu)**2 + alph/2*Mu.T@Mu\n",
    "    lgp = 0.5*M*np.log(alph) + 0.5*N*np.log(1/s2) - E_m_N - 0.5*np.log(np.linalg.det(np.linalg.inv(SIGMA))) - 0.5*N*np.log(2*np.pi)\n",
    "    return lgp\n",
    "\n"
   ]
  },
  {
   "cell_type": "markdown",
   "id": "94f1d53f",
   "metadata": {},
   "source": [
    "### MODIFIED"
   ]
  },
  {
   "cell_type": "code",
   "execution_count": 10,
   "id": "56fbbbc3",
   "metadata": {},
   "outputs": [],
   "source": [
    "# def compute_posterior(X, y, sigma_w_2, sigma_n_2):\n",
    "#     SIGMA = np.linalg.inv((1/sigma_w_2)*np.eye(X.shape[1]) + (1/sigma_n_2)*X.T@X)\n",
    "#     Mu = (1/sigma_n_2)*SIGMA@X.T@y\n",
    "    \n",
    "# #     N = X.shape[0]\n",
    "# #     shared = np.linalg.inv(X.T@X + sigma_n_2*sigma_w_2*np.eye(N))\n",
    "# #     Mu = shared@X.T@y\n",
    "# #     SIGMA = sigma_n_2*shared\n",
    "#     return Mu, SIGMA\n",
    "\n",
    "# def compute_log_marginal(X, y, sigma_w_2, sigma_n_2):\n",
    "\n",
    "#     Mu, SIGMA = compute_posterior(X, y, sigma_w_2, sigma_n_2)\n",
    "#     N = X.shape[0]\n",
    "#     M = X.shape[1]\n",
    "# #     lgp = stats.multivariate_normal.logpdf()\n",
    "#     E_m_N = 1/(sigma_n_2*2) * np.linalg.norm(y-X@Mu)**2 + (1/sigma_w_2)/2*Mu.T@Mu\n",
    "#     lgp = 0.5*M*np.log((1/sigma_w_2)) + 0.5*N*np.log(1/sigma_n_2) - E_m_N - 0.5*np.log(np.linalg.det(np.linalg.inv(SIGMA))) - 0.5*N*np.log(2*np.pi)\n",
    "#     return lgp"
   ]
  },
  {
   "cell_type": "markdown",
   "id": "115028cc",
   "metadata": {},
   "source": [
    "### NEW VERSION"
   ]
  },
  {
   "cell_type": "code",
   "execution_count": 11,
   "id": "e72a7c3a",
   "metadata": {},
   "outputs": [
    {
     "data": {
      "text/plain": [
       "-10266828.784337511"
      ]
     },
     "execution_count": 11,
     "metadata": {},
     "output_type": "execute_result"
    }
   ],
   "source": [
    "### USING ZERO-MEAN GAUSSIAN CONCEPT\n",
    "\n",
    "def compute_log_marginal(X, y, sigma_n_2, sigma_w_2): # p(y|sigma_n_2, sigma_w_2)\n",
    "    N = X.shape[0]\n",
    "    cov = sigma_n_2*np.eye(N) + sigma_w_2*X@X.T\n",
    "    return stats.multivariate_normal.logpdf(y, mean=None, cov=cov, allow_singular=True)\n",
    "    \n",
    "compute_log_marginal(X_train, y_train, 0.01, 0.01)"
   ]
  },
  {
   "cell_type": "markdown",
   "id": "9c9609a5",
   "metadata": {},
   "source": [
    "### Hyperparameter grid"
   ]
  },
  {
   "cell_type": "code",
   "execution_count": 12,
   "id": "57cd022f",
   "metadata": {},
   "outputs": [
    {
     "name": "stderr",
     "output_type": "stream",
     "text": [
      "100%|██████████| 100/100 [03:04<00:00,  1.85s/it]\n"
     ]
    }
   ],
   "source": [
    "sigma_n_2_power_grid = np.linspace(-10, 10, 100)\n",
    "sigma_w_2_power_grid = np.linspace(-10, 10, 100)\n",
    "\n",
    "log_prob_list = []\n",
    "\n",
    "for power_sigma_n_2 in tqdm(sigma_n_2_power_grid):\n",
    "    for power_sigma_w_2 in sigma_w_2_power_grid:\n",
    "        log_prob = compute_log_marginal(X_train, y_train, 10**power_sigma_n_2, 10**power_sigma_w_2)\n",
    "        log_prob_list.append(log_prob)"
   ]
  },
  {
   "cell_type": "code",
   "execution_count": 13,
   "id": "d572e5dd",
   "metadata": {},
   "outputs": [],
   "source": [
    "# prob_list to 2d shape\n",
    "log_prob_list = np.array(log_prob_list).reshape(100, 100)"
   ]
  },
  {
   "cell_type": "code",
   "execution_count": 14,
   "id": "37097a07",
   "metadata": {},
   "outputs": [
    {
     "data": {
      "text/plain": [
       "2356"
      ]
     },
     "execution_count": 14,
     "metadata": {},
     "output_type": "execute_result"
    }
   ],
   "source": [
    "np.argmax(log_prob_list)"
   ]
  },
  {
   "cell_type": "code",
   "execution_count": 15,
   "id": "bd0df025",
   "metadata": {},
   "outputs": [
    {
     "name": "stdout",
     "output_type": "stream",
     "text": [
      "(23, 56)\n"
     ]
    }
   ],
   "source": [
    "i_max = np.unravel_index(np.argmax(log_prob_list), log_prob_list.shape)\n",
    "print(i_max)"
   ]
  },
  {
   "cell_type": "code",
   "execution_count": 16,
   "id": "feee6446",
   "metadata": {},
   "outputs": [],
   "source": [
    "power_sigma_n_2_opt = sigma_n_2_power_grid[i_max[0]]\n",
    "power_sigma_w_2_opt = sigma_w_2_power_grid[i_max[1]]"
   ]
  },
  {
   "cell_type": "code",
   "execution_count": 17,
   "id": "e5de8f67",
   "metadata": {},
   "outputs": [
    {
     "name": "stdout",
     "output_type": "stream",
     "text": [
      "Optimal: \n",
      "power_sigma_n_2 = -5.353535353535354 \n",
      "power_sigma_w_2 = 1.3131313131313131 \n",
      "sigma_n_2 = 4.430621457583877e-06 \n",
      "sigma_w_2 = 20.565123083486515 \n",
      "log_prob = -37.95516967686765\n"
     ]
    }
   ],
   "source": [
    "print(\"Optimal: \\npower_sigma_n_2 = {} \\npower_sigma_w_2 = {} \\nsigma_n_2 = {} \\nsigma_w_2 = {} \\nlog_prob = {}\"\\\n",
    "      .format(power_sigma_n_2_opt, power_sigma_w_2_opt,\\\n",
    "              10**power_sigma_n_2_opt, 10**power_sigma_w_2_opt,\\\n",
    "              log_prob_list[i_max]))"
   ]
  },
  {
   "cell_type": "code",
   "execution_count": 18,
   "id": "0c173eb2",
   "metadata": {},
   "outputs": [
    {
     "data": {
      "image/png": "[encoded data removed]",
      "text/plain": [
       "<Figure size 432x288 with 2 Axes>"
      ]
     },
     "metadata": {
      "needs_background": "light"
     },
     "output_type": "display_data"
    }
   ],
   "source": [
    "plt.contourf(sigma_n_2_power_grid, sigma_w_2_power_grid, log_prob_list) #[X, Y], Z\n",
    "plt.scatter(power_sigma_n_2_opt, power_sigma_w_2_opt, color='red')\n",
    "plt.title(r\"$log (y \\mid \\sigma_w^2, \\sigma_n^2)$\")\n",
    "plt.xlabel(r\"$log_{10} (\\sigma_w^2)$\")\n",
    "plt.ylabel(r\"$log_{10} (\\sigma_n^2)$\")\n",
    "plt.colorbar()\n",
    "plt.show()\n",
    "\n",
    "# plt.contourf(alph_power_grid, r_power_grid, prob_y) #[X, Y], Z\n",
    "# plt.title(\"prob_y\")\n",
    "# plt.xlabel(r\"$log_{10} (\\alpha)$\")\n",
    "# plt.ylabel(r\"$log_{10} (r)$\")\n",
    "# plt.colorbar()\n",
    "# plt.show()"
   ]
  },
  {
   "cell_type": "code",
   "execution_count": 19,
   "id": "14238f36",
   "metadata": {},
   "outputs": [
    {
     "data": {
      "image/png": "[encoded data removed]",
      "text/plain": [
       "<Figure size 432x288 with 2 Axes>"
      ]
     },
     "metadata": {
      "needs_background": "light"
     },
     "output_type": "display_data"
    }
   ],
   "source": [
    "\n",
    "plt.contourf(sigma_n_2_power_grid[20:30], sigma_w_2_power_grid[50:60], log_prob_list[20:30, 50:60]) #[X, Y], Z\n",
    "plt.title(r\"$log (y \\mid \\sigma_w^2, \\sigma_n^2)$\")\n",
    "plt.xlabel(r\"$log_{10} (\\sigma_w^2)$\")\n",
    "plt.ylabel(r\"$log_{10} (\\sigma_n^2)$\")\n",
    "plt.colorbar()\n",
    "plt.show()"
   ]
  },
  {
   "cell_type": "code",
   "execution_count": 20,
   "id": "671bc995",
   "metadata": {},
   "outputs": [
    {
     "data": {
      "text/plain": [
       "-37.95516967686765"
      ]
     },
     "execution_count": 20,
     "metadata": {},
     "output_type": "execute_result"
    }
   ],
   "source": [
    "np.max(log_prob_list[20:30, 50:60])"
   ]
  },
  {
   "cell_type": "code",
   "execution_count": 21,
   "id": "a7869ae5",
   "metadata": {},
   "outputs": [],
   "source": [
    "sigma_n_2_power_grid_mag = np.linspace(-6, -4, 100)\n",
    "sigma_w_2_power_grid_mag = np.linspace(1, 2, 100)\n",
    "\n",
    "log_prob_list_mag = []\n",
    "\n",
    "for power_sigma_n_2 in sigma_n_2_power_grid_mag:\n",
    "    for power_sigma_w_2 in sigma_w_2_power_grid_mag:\n",
    "        log_prob = compute_log_marginal(X_train, y_train, 10**power_sigma_n_2, 10**power_sigma_w_2)\n",
    "        log_prob_list_mag.append(log_prob)"
   ]
  },
  {
   "cell_type": "code",
   "execution_count": 22,
   "id": "836e135f",
   "metadata": {},
   "outputs": [],
   "source": [
    "# prob_list to 2d shape\n",
    "log_prob_list_mag = np.array(log_prob_list_mag).reshape(100, 100)"
   ]
  },
  {
   "cell_type": "code",
   "execution_count": 23,
   "id": "79c07ef3",
   "metadata": {
    "scrolled": true
   },
   "outputs": [
    {
     "name": "stdout",
     "output_type": "stream",
     "text": [
      "(40, 32)\n"
     ]
    }
   ],
   "source": [
    "i_max_mag = np.unravel_index(np.argmax(log_prob_list_mag), log_prob_list_mag.shape)\n",
    "print(i_max_mag)"
   ]
  },
  {
   "cell_type": "code",
   "execution_count": 24,
   "id": "89d4a557",
   "metadata": {},
   "outputs": [
    {
     "data": {
      "text/plain": [
       "-37.95497240664166"
      ]
     },
     "execution_count": 24,
     "metadata": {},
     "output_type": "execute_result"
    }
   ],
   "source": [
    "log_prob_list_mag[i_max_mag]"
   ]
  },
  {
   "cell_type": "code",
   "execution_count": 25,
   "id": "e0e4fc6b",
   "metadata": {},
   "outputs": [],
   "source": [
    "power_sigma_n_2_opt_mag = sigma_n_2_power_grid_mag[i_max_mag[0]]\n",
    "power_sigma_w_2_opt_mag = sigma_w_2_power_grid_mag[i_max_mag[1]]"
   ]
  },
  {
   "cell_type": "code",
   "execution_count": 26,
   "id": "4b7750bb",
   "metadata": {},
   "outputs": [
    {
     "data": {
      "image/png": "[encoded data removed]",
      "text/plain": [
       "<Figure size 432x288 with 2 Axes>"
      ]
     },
     "metadata": {
      "needs_background": "light"
     },
     "output_type": "display_data"
    }
   ],
   "source": [
    "plt.contourf(sigma_n_2_power_grid_mag, sigma_w_2_power_grid_mag, log_prob_list_mag) #[X, Y], Z\n",
    "plt.scatter(power_sigma_n_2_opt_mag, power_sigma_w_2_opt_mag, c='red')\n",
    "plt.title(r\"$log (y \\mid \\sigma_w^2, \\sigma_n^2)$, magnified\")\n",
    "plt.xlabel(r\"$log_{10} (\\sigma_w^2)$\")\n",
    "plt.ylabel(r\"$log_{10} (\\sigma_n^2)$\")\n",
    "plt.colorbar()\n",
    "plt.show()"
   ]
  },
  {
   "cell_type": "code",
   "execution_count": 27,
   "id": "e0af2181",
   "metadata": {},
   "outputs": [
    {
     "name": "stdout",
     "output_type": "stream",
     "text": [
      "Optimal: \n",
      "sigma_n_2_opt = 6.4280731172843194e-06 \n",
      "sigma_w_2_opt = 21.049041445120206\n"
     ]
    }
   ],
   "source": [
    "sigma_n_2_opt = 10**power_sigma_n_2_opt_mag\n",
    "sigma_w_2_opt = 10**power_sigma_w_2_opt_mag\n",
    "\n",
    "print(\"Optimal: \\nsigma_n_2_opt = {} \\nsigma_w_2_opt = {}\".format(sigma_n_2_opt, sigma_w_2_opt))"
   ]
  },
  {
   "cell_type": "markdown",
   "id": "c28fc809",
   "metadata": {},
   "source": [
    "### Predictions and RMSE"
   ]
  },
  {
   "cell_type": "code",
   "execution_count": 28,
   "id": "c0666f8c",
   "metadata": {},
   "outputs": [],
   "source": [
    "# def get_w(X, y, sigma_n_2, sigma_w_2):\n",
    "#     return np.linalg.inv(X.T@X + sigma_n_2*(1/sigma_w_2)*np.eye(X.shape[1]))@X.T@y"
   ]
  },
  {
   "cell_type": "code",
   "execution_count": 29,
   "id": "37175851",
   "metadata": {},
   "outputs": [],
   "source": [
    "def get_w(X, y, sigma_n_2, sigma_w_2):\n",
    "    return np.linalg.inv(X.T@X + (1/sigma_w_2)*np.eye(X.shape[1]))@X.T@y"
   ]
  },
  {
   "cell_type": "code",
   "execution_count": 30,
   "id": "36885d05",
   "metadata": {},
   "outputs": [
    {
     "data": {
      "text/plain": [
       "array([-7.09783611, -3.84796275,  0.77760774, -4.14950714,  7.24533858,\n",
       "       -0.12556796,  2.77066872,  0.2034831 ])"
      ]
     },
     "execution_count": 30,
     "metadata": {},
     "output_type": "execute_result"
    }
   ],
   "source": [
    "w = get_w(X_train, y_train, sigma_n_2_opt, sigma_w_2_opt)\n",
    "w"
   ]
  },
  {
   "cell_type": "code",
   "execution_count": 31,
   "id": "5badebd3",
   "metadata": {},
   "outputs": [],
   "source": [
    "y_intercept = y_train.mean()"
   ]
  },
  {
   "cell_type": "code",
   "execution_count": 32,
   "id": "936dd78d",
   "metadata": {},
   "outputs": [],
   "source": [
    "y_test_pred = X_test@w + y_intercept"
   ]
  },
  {
   "cell_type": "code",
   "execution_count": 33,
   "id": "f1da9207",
   "metadata": {},
   "outputs": [
    {
     "data": {
      "image/png": "[encoded data removed]",
      "text/plain": [
       "<Figure size 432x288 with 1 Axes>"
      ]
     },
     "metadata": {
      "needs_background": "light"
     },
     "output_type": "display_data"
    }
   ],
   "source": [
    "plt.hist(y_test_pred, bins=20)\n",
    "plt.show()"
   ]
  },
  {
   "cell_type": "code",
   "execution_count": 34,
   "id": "7347ec94",
   "metadata": {},
   "outputs": [
    {
     "data": {
      "text/plain": [
       "array([22.53819246, 22.42365079, 24.93578358, 24.82124192, 23.81239499,\n",
       "       26.09069639, 25.74707138, 27.2438283 , 32.02773354, 31.91319187])"
      ]
     },
     "execution_count": 34,
     "metadata": {},
     "output_type": "execute_result"
    }
   ],
   "source": [
    "y_test_pred[:10]"
   ]
  },
  {
   "cell_type": "code",
   "execution_count": 35,
   "id": "e7dc8ca5",
   "metadata": {},
   "outputs": [
    {
     "name": "stdout",
     "output_type": "stream",
     "text": [
      "test RMSE = 2.843446999367912\n"
     ]
    }
   ],
   "source": [
    "rmse_test = mean_squared_error(y_test, y_test_pred, squared=False)\n",
    "print(\"test RMSE =\", rmse_test)"
   ]
  },
  {
   "cell_type": "code",
   "execution_count": 36,
   "id": "6fad5143",
   "metadata": {},
   "outputs": [],
   "source": [
    "def error_histogram(y_pred, y_targ):\n",
    "    error_list = y_pred.reshape(-1, 1) - y_targ.reshape(-1, 1)\n",
    "    plt.hist(error_list, bins=20)\n",
    "    plt.xlabel(\"Error\")\n",
    "    plt.ylabel(\"Number of samples in the bin\")\n",
    "    plt.show()"
   ]
  },
  {
   "cell_type": "code",
   "execution_count": 37,
   "id": "99006c0e",
   "metadata": {},
   "outputs": [
    {
     "data": {
      "image/png": "[encoded data removed]",
      "text/plain": [
       "<Figure size 432x288 with 1 Axes>"
      ]
     },
     "metadata": {
      "needs_background": "light"
     },
     "output_type": "display_data"
    }
   ],
   "source": [
    "error_histogram(y_test_pred, y_test)"
   ]
  },
  {
   "cell_type": "markdown",
   "id": "617df410",
   "metadata": {},
   "source": [
    "# Task 2b single alpha"
   ]
  },
  {
   "cell_type": "code",
   "execution_count": 207,
   "id": "5d650038",
   "metadata": {},
   "outputs": [],
   "source": [
    "def calc_q_w(X, t, alpha, beta, w):\n",
    "    cov = np.linalg.inv(beta*X.T@X + alpha*np.eye(X.shape[1]))\n",
    "    mean = beta*cov@X.T@t\n",
    "    return stats.multivariate_normal.pdf(w, mean=mean, cov=cov, allow_singular=True), mean # q_w and w_new\n",
    "\n",
    "def calc_q_alpha(X, t, alpha, w, a, b):\n",
    "    a_new = a + 0.5*X.shape[1]\n",
    "    b_new = b + 0.5*np.sum(w**2)\n",
    "#     pdf_list = []\n",
    "#     alpha_new = []\n",
    "#     for i, a in enumerate(alpha):\n",
    "    q_alpha_new = stats.gamma.pdf(alpha, a=a_new, scale=b_new)\n",
    "    alpha_new = stats.gamma.mean(a=a_new, scale=b_new)\n",
    "    return q_alpha_new, alpha_new, a_new, b_new # q_alpha and alpha_new\n",
    "\n",
    "def calc_q_beta(X, t, beta, w, c, d):\n",
    "    c_new = c + X.shape[0]/2\n",
    "    d_new = d + 1/2*np.linalg.norm(t-X@w)**2\n",
    "    beta_new = stats.gamma.mean(a=c_new, scale=d_new)\n",
    "    return stats.gamma.pdf(beta, a=c_new, scale=d_new), beta_new, c_new, d_new # q_beta and beta_new"
   ]
  },
  {
   "cell_type": "code",
   "execution_count": 208,
   "id": "fd11f226",
   "metadata": {},
   "outputs": [],
   "source": [
    "# log prob version\n",
    "def calc_log_q_w(X, t, alpha, beta, w):\n",
    "    cov = np.linalg.inv(beta*X.T@X + alpha*np.eye(X.shape[1]))\n",
    "    mean = beta*cov@X.T@t\n",
    "    return stats.multivariate_normal.logpdf(w, mean=mean, cov=cov, allow_singular=True), mean # q_w and w_new\n",
    "\n",
    "def calc_log_q_alpha(X, t, alpha, w, a, b):\n",
    "    a_new = a + 0.5*X.shape[1]\n",
    "    b_new = b + 0.5*np.sum(w**2)\n",
    "    q_alpha_new = stats.gamma.logpdf(alpha, a=a_new, scale=b_new)\n",
    "    alpha_new = stats.gamma.mean(a=a_new, scale=b_new)\n",
    "    return q_alpha_new, alpha_new, a_new, b_new # q_alpha and alpha_new\n",
    "\n",
    "def calc_log_q_beta(X, t, beta, w, c, d):\n",
    "    c_new = c + X.shape[0]/2\n",
    "    d_new = d + 1/2*np.linalg.norm(t-X@w)**2\n",
    "    beta_new = stats.gamma.mean(a=c_new, scale=d_new)\n",
    "    return stats.gamma.logpdf(beta, a=c_new, scale=d_new), beta_new, c_new, d_new # q_beta and beta_new"
   ]
  },
  {
   "cell_type": "code",
   "execution_count": 209,
   "id": "44ba98b6",
   "metadata": {},
   "outputs": [],
   "source": [
    "initial = 10**-4\n",
    "a = initial\n",
    "b = initial\n",
    "c = initial\n",
    "d = initial\n",
    "\n",
    "alpha = stats.gamma.mean(a=a, scale=b)\n",
    "beta = stats.gamma.mean(a=c, scale=d)\n",
    "\n",
    "w = np.zeros(8)\n",
    "\n",
    "X = X_train\n",
    "t = y_train\n"
   ]
  },
  {
   "cell_type": "code",
   "execution_count": 210,
   "id": "49b6b09c",
   "metadata": {},
   "outputs": [
    {
     "name": "stderr",
     "output_type": "stream",
     "text": [
      "100%|██████████| 100/100 [00:00<00:00, 2358.66it/s]\n"
     ]
    }
   ],
   "source": [
    "it = 100\n",
    "prob_post_list = []\n",
    "for i in tqdm(range(it)):\n",
    "    q_w, w = calc_q_w(X, t, alpha, beta, w)\n",
    "    q_alpha, alpha, a, b = calc_q_alpha(X, t, alpha, w, a, b)\n",
    "    q_beta, beta, c, d = calc_q_beta(X, t, beta, w, c, d)\n",
    "    prob_post = q_w*q_alpha*q_beta\n",
    "    prob_post_list.append(prob_post)"
   ]
  },
  {
   "cell_type": "code",
   "execution_count": 211,
   "id": "79ec9128",
   "metadata": {},
   "outputs": [],
   "source": [
    "initial = 10**-4\n",
    "a = initial\n",
    "b = initial\n",
    "c = initial\n",
    "d = initial\n",
    "\n",
    "alpha = stats.gamma.mean(a=a, scale=b)\n",
    "beta = stats.gamma.mean(a=c, scale=d)\n",
    "\n",
    "w = np.zeros(8)\n",
    "\n",
    "X = X_train\n",
    "t = y_train\n",
    "\n"
   ]
  },
  {
   "cell_type": "code",
   "execution_count": 212,
   "id": "1387206f",
   "metadata": {},
   "outputs": [
    {
     "name": "stderr",
     "output_type": "stream",
     "text": [
      "100%|██████████| 100/100 [00:00<00:00, 2919.97it/s]\n"
     ]
    }
   ],
   "source": [
    "it = 100\n",
    "log_prob_post_list = []\n",
    "for i in tqdm(range(it)):\n",
    "    q_w, w = calc_log_q_w(X, t, alpha, beta, w)\n",
    "    q_alpha, alpha, a, b = calc_log_q_alpha(X, t, alpha, w, a, b)\n",
    "    q_beta, beta, c, d = calc_log_q_beta(X, t, beta, w, c, d)\n",
    "    log_prob_post = q_w + q_alpha + q_beta\n",
    "    log_prob_post_list.append(prob_post)"
   ]
  },
  {
   "cell_type": "code",
   "execution_count": 213,
   "id": "fb341d62",
   "metadata": {},
   "outputs": [
    {
     "data": {
      "image/png": "[encoded data removed]",
      "text/plain": [
       "<Figure size 432x288 with 1 Axes>"
      ]
     },
     "metadata": {
      "needs_background": "light"
     },
     "output_type": "display_data"
    }
   ],
   "source": [
    "plt.plot(prob_post_list);"
   ]
  },
  {
   "cell_type": "code",
   "execution_count": 214,
   "id": "45004188",
   "metadata": {},
   "outputs": [
    {
     "data": {
      "text/plain": [
       "[1.7613232156831545e+30,\n",
       " 1.7613232156831545e+30,\n",
       " 1.7613232156831545e+30,\n",
       " 1.7613232156831545e+30,\n",
       " 1.7613232156831545e+30,\n",
       " 1.7613232156831545e+30,\n",
       " 1.7613232156831545e+30,\n",
       " 1.7613232156831545e+30,\n",
       " 1.7613232156831545e+30,\n",
       " 1.7613232156831545e+30]"
      ]
     },
     "execution_count": 214,
     "metadata": {},
     "output_type": "execute_result"
    }
   ],
   "source": [
    "log_prob_post_list[:10]"
   ]
  },
  {
   "cell_type": "code",
   "execution_count": 215,
   "id": "f754a50b",
   "metadata": {},
   "outputs": [
    {
     "data": {
      "image/png": "[encoded data removed]",
      "text/plain": [
       "<Figure size 432x288 with 1 Axes>"
      ]
     },
     "metadata": {
      "needs_background": "light"
     },
     "output_type": "display_data"
    }
   ],
   "source": [
    "plt.plot(log_prob_post_list);"
   ]
  },
  {
   "cell_type": "code",
   "execution_count": 216,
   "id": "e0bc9f6e",
   "metadata": {},
   "outputs": [
    {
     "data": {
      "text/plain": [
       "array([-7.23458438, -3.94212356,  0.75595735, -4.23188777,  7.2039646 ,\n",
       "       -0.1251694 ,  2.77021909,  0.20406246])"
      ]
     },
     "execution_count": 216,
     "metadata": {},
     "output_type": "execute_result"
    }
   ],
   "source": [
    "w"
   ]
  },
  {
   "cell_type": "code",
   "execution_count": 217,
   "id": "f0792d2d",
   "metadata": {},
   "outputs": [
    {
     "name": "stdout",
     "output_type": "stream",
     "text": [
      "sigma_w_2=3.4325616267178905e-07 \n",
      "sigma_n_2=5.075840899858351e-12\n"
     ]
    }
   ],
   "source": [
    "print(f\"sigma_w_2={1/alpha} \\nsigma_n_2={1/beta}\")"
   ]
  },
  {
   "cell_type": "code",
   "execution_count": 218,
   "id": "78362c40",
   "metadata": {},
   "outputs": [],
   "source": [
    "y_test_pred = X_test@w + y_intercept\n",
    "rmse_test = mean_squared_error(y_test, y_test_pred, squared=False)"
   ]
  },
  {
   "cell_type": "code",
   "execution_count": 219,
   "id": "fae85b07",
   "metadata": {},
   "outputs": [
    {
     "data": {
      "text/plain": [
       "2.843587960363663"
      ]
     },
     "execution_count": 219,
     "metadata": {},
     "output_type": "execute_result"
    }
   ],
   "source": [
    "rmse_test"
   ]
  },
  {
   "cell_type": "code",
   "execution_count": 220,
   "id": "27ebd44b",
   "metadata": {},
   "outputs": [
    {
     "data": {
      "image/png": "[encoded data removed]",
      "text/plain": [
       "<Figure size 432x288 with 1 Axes>"
      ]
     },
     "metadata": {
      "needs_background": "light"
     },
     "output_type": "display_data"
    }
   ],
   "source": [
    "error_histogram(y_test_pred, y_test)"
   ]
  },
  {
   "cell_type": "code",
   "execution_count": null,
   "id": "334443df",
   "metadata": {},
   "outputs": [],
   "source": []
  },
  {
   "cell_type": "markdown",
   "id": "bbd23ae6",
   "metadata": {},
   "source": [
    "### Visualise Q for sigma_w and sigma_n"
   ]
  },
  {
   "cell_type": "code",
   "execution_count": 233,
   "id": "303a5661",
   "metadata": {},
   "outputs": [
    {
     "data": {
      "image/png": "[encoded data removed]",
      "text/plain": [
       "<Figure size 288x216 with 1 Axes>"
      ]
     },
     "metadata": {
      "needs_background": "light"
     },
     "output_type": "display_data"
    }
   ],
   "source": [
    "sigma_w_2_power_grid = np.linspace(-7, -6, 100)\n",
    "\n",
    "prob_list = []\n",
    "for power_sigma_w_2 in sigma_w_2_power_grid:\n",
    "        alpha = 1/(10**power_sigma_w_2)\n",
    "        q_alpha, *_ = calc_q_alpha(X, t, alpha, w, a, b)\n",
    "        prob_list.append(q_alpha)\n",
    "        \n",
    "prob_list = np.array(prob_list)\n",
    "\n",
    "plt.figure(figsize=(4, 3))\n",
    "plt.plot(sigma_w_2_power_grid, prob_list)\n",
    "plt.xlabel(\"$log_{10} \\sigma_{w}^2$\")\n",
    "plt.ylabel(\"$Q(\\sigma_{w}^2)$\")\n",
    "plt.show()"
   ]
  },
  {
   "cell_type": "code",
   "execution_count": 236,
   "id": "441e97df",
   "metadata": {},
   "outputs": [
    {
     "data": {
      "image/png": "[encoded data removed]",
      "text/plain": [
       "<Figure size 288x216 with 1 Axes>"
      ]
     },
     "metadata": {
      "needs_background": "light"
     },
     "output_type": "display_data"
    }
   ],
   "source": [
    "sigma_n_2_power_grid = np.linspace(-11.4, -11.2, 100)\n",
    "\n",
    "prob_list = []\n",
    "for power_sigma_n_2 in sigma_n_2_power_grid:\n",
    "        beta = 1/(10**power_sigma_n_2)\n",
    "        q_beta, *_ = calc_q_beta(X, t, beta, w, c, d)\n",
    "        prob_list.append(q_beta)\n",
    "        \n",
    "prob_list = np.array(prob_list)\n",
    "\n",
    "plt.figure(figsize=(4, 3))\n",
    "plt.plot(sigma_n_2_power_grid, prob_list)\n",
    "plt.xlabel(\"$log_{10} \\sigma_{n}^2$\")\n",
    "plt.ylabel(\"$Q(\\sigma_{n}^2)$\")\n",
    "plt.show()"
   ]
  },
  {
   "cell_type": "markdown",
   "id": "5bd61a80",
   "metadata": {},
   "source": [
    "### Visualise contour plot"
   ]
  },
  {
   "cell_type": "code",
   "execution_count": 201,
   "id": "34df5dbc",
   "metadata": {},
   "outputs": [
    {
     "name": "stderr",
     "output_type": "stream",
     "text": [
      "100%|██████████| 100/100 [00:01<00:00, 55.65it/s]\n"
     ]
    }
   ],
   "source": [
    "sigma_n_2_power_grid = np.linspace(-20, 20, 100)\n",
    "sigma_w_2_power_grid = np.linspace(-20, 20, 100)\n",
    "\n",
    "log_prob_list = []\n",
    "\n",
    "for power_sigma_n_2 in tqdm(sigma_n_2_power_grid):\n",
    "    for power_sigma_w_2 in sigma_w_2_power_grid:\n",
    "        alpha = 1/(10**power_sigma_w_2)\n",
    "        beta = 1/(10**power_sigma_n_2)\n",
    "        log_q_alpha, *_ = calc_log_q_alpha(X, t, alpha, w, a, b)\n",
    "        log_q_beta, *_ = calc_log_q_beta(X, t, beta, w, c, d)\n",
    "        log_prob = log_q_alpha + log_q_beta\n",
    "        log_prob_list.append(log_prob)\n",
    "        \n",
    "log_prob_list = np.array(log_prob_list).reshape(100, 100)"
   ]
  },
  {
   "cell_type": "code",
   "execution_count": 202,
   "id": "05f39a8e",
   "metadata": {},
   "outputs": [
    {
     "name": "stdout",
     "output_type": "stream",
     "text": [
      "(22, 34)\n"
     ]
    }
   ],
   "source": [
    "i_max = np.unravel_index(np.argmax(log_prob_list), log_prob_list.shape)\n",
    "print(i_max)\n",
    "power_sigma_n_2_opt = sigma_n_2_power_grid[i_max[0]]\n",
    "power_sigma_w_2_opt = sigma_w_2_power_grid[i_max[1]]\n",
    "sigma_n_2_opt = 10**power_sigma_n_2_opt\n",
    "sigma_w_2_opt = 10**power_sigma_w_2_opt"
   ]
  },
  {
   "cell_type": "code",
   "execution_count": 203,
   "id": "6e2d60d6",
   "metadata": {},
   "outputs": [
    {
     "name": "stdout",
     "output_type": "stream",
     "text": [
      "Optimised:\n",
      "sigma_n_2=7.742636826811278e-12, sigma_w_2=5.462277217684337e-07\n"
     ]
    }
   ],
   "source": [
    "print(\"Optimised:\")\n",
    "print(f\"sigma_n_2={sigma_n_2_opt}, sigma_w_2={sigma_w_2_opt}\")"
   ]
  },
  {
   "cell_type": "code",
   "execution_count": 204,
   "id": "f187cf34",
   "metadata": {},
   "outputs": [
    {
     "data": {
      "text/plain": [
       "-1719.0162977208488"
      ]
     },
     "execution_count": 204,
     "metadata": {},
     "output_type": "execute_result"
    }
   ],
   "source": [
    "log_prob_list[i_max]"
   ]
  },
  {
   "cell_type": "code",
   "execution_count": 206,
   "id": "4750f793",
   "metadata": {},
   "outputs": [
    {
     "data": {
      "image/png": "[encoded data removed]",
      "text/plain": [
       "<Figure size 432x288 with 2 Axes>"
      ]
     },
     "metadata": {
      "needs_background": "light"
     },
     "output_type": "display_data"
    }
   ],
   "source": [
    "plt.contourf(sigma_w_2_power_grid, sigma_n_2_power_grid, log_prob_list) #[X, Y], Z\n",
    "plt.scatter(power_sigma_w_2_opt, power_sigma_n_2_opt, color='red')\n",
    "plt.title(r\"$log (y \\mid \\sigma_w^2, \\sigma_n^2)$\")\n",
    "plt.xlabel(r\"$log_{10} (\\sigma_w^2)$\")\n",
    "plt.ylabel(r\"$log_{10} (\\sigma_n^2)$\")\n",
    "plt.colorbar()\n",
    "plt.show()"
   ]
  },
  {
   "cell_type": "code",
   "execution_count": null,
   "id": "0e72b721",
   "metadata": {},
   "outputs": [],
   "source": []
  },
  {
   "cell_type": "markdown",
   "id": "9214ff27",
   "metadata": {},
   "source": [
    "# Task 2b alpha for each weight"
   ]
  },
  {
   "cell_type": "code",
   "execution_count": 90,
   "id": "b4d8fba7",
   "metadata": {},
   "outputs": [],
   "source": [
    "def calc_q_w(X, t, alpha, beta, w):\n",
    "    cov = np.linalg.inv(beta*X.T@X + np.diag(alpha))\n",
    "    mean = beta*cov@X.T@t\n",
    "    return stats.multivariate_normal.pdf(w, mean=mean, cov=cov, allow_singular=True), mean # q_w and w_new\n",
    "\n",
    "def calc_q_alpha(X, t, alpha, w, a, b):\n",
    "    a_new = a + 0.5\n",
    "    b_new = b + 0.5*w**2\n",
    "    pdf_list = []\n",
    "    alpha_new = []\n",
    "    for i, a in enumerate(alpha):\n",
    "        pdf_list.append(stats.gamma.pdf(alpha, a=a_new, scale=b_new[i]))\n",
    "        alpha_new.append(stats.gamma.mean(a=a_new, scale=b_new[i]))\n",
    "    return np.prod(pdf_list), np.array(alpha_new), a_new, b_new # q_alpha and alpha_new\n",
    "\n",
    "def calc_q_beta(X, t, beta, w, c, d):\n",
    "    c_new = c + X.shape[0]/2\n",
    "    d_new = d + 1/2*np.linalg.norm(t-X@w)**2\n",
    "    beta_new = stats.gamma.mean(a=c_new, scale=d_new)\n",
    "    return stats.gamma.pdf(beta, a=c_new, scale=d_new), beta_new, c_new, d_new # q_beta and beta_new"
   ]
  },
  {
   "cell_type": "code",
   "execution_count": 91,
   "id": "67aa4a8b",
   "metadata": {},
   "outputs": [],
   "source": [
    "# log prob version\n",
    "def calc_log_q_w(X, t, alpha, beta, w):\n",
    "    cov = np.linalg.inv(beta*X.T@X + np.diag(alpha))\n",
    "    mean = beta*cov@X.T@t\n",
    "    return stats.multivariate_normal.logpdf(w, mean=mean, cov=cov, allow_singular=True), mean # q_w and w_new\n",
    "\n",
    "def calc_log_q_alpha(X, t, alpha, w, a, b):\n",
    "    a_new = a + 0.5\n",
    "    b_new = b + 0.5*w**2\n",
    "    pdf_list = []\n",
    "    alpha_new = []\n",
    "    for i, a in enumerate(alpha):\n",
    "        pdf_list.append(stats.gamma.logpdf(alpha, a=a_new, scale=b_new[i]))\n",
    "        alpha_new.append(stats.gamma.mean(a=a_new, scale=b_new[i]))\n",
    "    return np.sum(pdf_list), np.array(alpha_new), a_new, b_new # q_alpha and alpha_new\n",
    "\n",
    "def calc_log_q_beta(X, t, beta, w, c, d):\n",
    "    c_new = c + X.shape[0]/2\n",
    "    d_new = d + 1/2*np.linalg.norm(t-X@w)**2\n",
    "    beta_new = stats.gamma.mean(a=c_new, scale=d_new)\n",
    "    return stats.gamma.logpdf(beta, a=c_new, scale=d_new), beta_new, c_new, d_new # q_beta and beta_new"
   ]
  },
  {
   "cell_type": "code",
   "execution_count": 92,
   "id": "45aac095",
   "metadata": {},
   "outputs": [],
   "source": [
    "initial = 10**-6\n",
    "a = initial\n",
    "b = np.full(8, initial)\n",
    "c = initial\n",
    "d = initial\n",
    "\n",
    "alpha = np.full(8, stats.gamma.mean(a=a, scale=b[0]))\n",
    "beta = stats.gamma.mean(a=c, scale=d)\n",
    "\n",
    "w = np.zeros(8)\n",
    "\n",
    "X = X_train\n",
    "t = y_train\n"
   ]
  },
  {
   "cell_type": "code",
   "execution_count": 93,
   "id": "20e591a4",
   "metadata": {},
   "outputs": [
    {
     "name": "stderr",
     "output_type": "stream",
     "text": [
      "  0%|          | 0/100 [00:00<?, ?it/s]/Users/jihoon/miniforge3/envs/atf2/lib/python3.8/site-packages/numpy/core/fromnumeric.py:87: RuntimeWarning: overflow encountered in reduce\n",
      "  return ufunc.reduce(obj, axis, dtype, out, **passkwargs)\n",
      "<ipython-input-93-662fc1a406a2>:7: RuntimeWarning: invalid value encountered in double_scalars\n",
      "  prob_post = q_w*q_alpha*q_beta\n",
      "100%|██████████| 100/100 [00:00<00:00, 937.12it/s]\n"
     ]
    }
   ],
   "source": [
    "it = 100\n",
    "prob_post_list = []\n",
    "for i in tqdm(range(it)):\n",
    "    q_w, w = calc_q_w(X, t, alpha, beta, w)\n",
    "    q_alpha, alpha, a, b = calc_q_alpha(X, t, alpha, w, a, b)\n",
    "    q_beta, beta, c, d = calc_q_beta(X, t, beta, w, c, d)\n",
    "    prob_post = q_w*q_alpha*q_beta\n",
    "    prob_post_list.append(prob_post)"
   ]
  },
  {
   "cell_type": "code",
   "execution_count": 94,
   "id": "c7678838",
   "metadata": {},
   "outputs": [
    {
     "name": "stderr",
     "output_type": "stream",
     "text": [
      "100%|██████████| 100/100 [00:00<00:00, 1093.47it/s]\n"
     ]
    }
   ],
   "source": [
    "it = 100\n",
    "log_prob_post_list = []\n",
    "for i in tqdm(range(it)):\n",
    "    q_w, w = calc_log_q_w(X, t, alpha, beta, w)\n",
    "    q_alpha, alpha, a, b = calc_log_q_alpha(X, t, alpha, w, a, b)\n",
    "    q_beta, beta, c, d = calc_log_q_beta(X, t, beta, w, c, d)\n",
    "    log_prob_post = q_w + q_alpha + q_beta\n",
    "    log_prob_post_list.append(prob_post)"
   ]
  },
  {
   "cell_type": "code",
   "execution_count": 95,
   "id": "ba603236",
   "metadata": {},
   "outputs": [
    {
     "data": {
      "text/plain": [
       "array([-7.23462545, -4.09458958,  0.82897397, -4.0768678 ,  7.2039515 ,\n",
       "       -0.12516927,  2.77021895,  0.20406264])"
      ]
     },
     "execution_count": 95,
     "metadata": {},
     "output_type": "execute_result"
    }
   ],
   "source": [
    "w"
   ]
  },
  {
   "cell_type": "code",
   "execution_count": 96,
   "id": "c2b3f32d",
   "metadata": {},
   "outputs": [
    {
     "name": "stdout",
     "output_type": "stream",
     "text": [
      "sigma_w_2=[1.91492372e-06 5.97782282e-06 1.44708453e-04 6.02964627e-06\n",
      " 1.92562341e-06 6.38022278e-03 1.30306655e-05 2.40245680e-03] \n",
      "sigma_n_2=1.2689606317935847e-12\n"
     ]
    }
   ],
   "source": [
    "print(f\"sigma_w_2={1/alpha} \\nsigma_n_2={1/beta}\")"
   ]
  },
  {
   "cell_type": "code",
   "execution_count": 97,
   "id": "f783ee53",
   "metadata": {},
   "outputs": [],
   "source": [
    "y_test_pred = X_test@w + y_intercept\n",
    "rmse_test = mean_squared_error(y_test, y_test_pred, squared=False)"
   ]
  },
  {
   "cell_type": "code",
   "execution_count": 98,
   "id": "05c5c780",
   "metadata": {},
   "outputs": [
    {
     "data": {
      "text/plain": [
       "2.8435880498724786"
      ]
     },
     "execution_count": 98,
     "metadata": {},
     "output_type": "execute_result"
    }
   ],
   "source": [
    "rmse_test"
   ]
  },
  {
   "cell_type": "code",
   "execution_count": 99,
   "id": "5ec51870",
   "metadata": {},
   "outputs": [
    {
     "data": {
      "image/png": "[encoded data removed]",
      "text/plain": [
       "<Figure size 432x288 with 1 Axes>"
      ]
     },
     "metadata": {
      "needs_background": "light"
     },
     "output_type": "display_data"
    }
   ],
   "source": [
    "error_histogram(y_test_pred, y_test)"
   ]
  },
  {
   "cell_type": "markdown",
   "id": "96ca117f",
   "metadata": {},
   "source": [
    "### Visualise contour plot"
   ]
  },
  {
   "cell_type": "code",
   "execution_count": 100,
   "id": "37c1b8d5",
   "metadata": {},
   "outputs": [
    {
     "name": "stderr",
     "output_type": "stream",
     "text": [
      "100%|██████████| 100/100 [00:07<00:00, 13.89it/s]\n"
     ]
    }
   ],
   "source": [
    "sigma_n_2_power_grid = np.linspace(-10, 10, 100)\n",
    "sigma_w_2_power_grid = np.linspace(-10, 10, 100)\n",
    "\n",
    "log_prob_list = []\n",
    "\n",
    "for power_sigma_n_2 in tqdm(sigma_n_2_power_grid):\n",
    "    for power_sigma_w_2 in sigma_w_2_power_grid:\n",
    "        alpha = np.full(8, 1/(10**power_sigma_w_2))\n",
    "        beta = 1/(10**power_sigma_n_2)\n",
    "        log_q_alpha, *_ = calc_log_q_alpha(X, t, alpha, w, a, b)\n",
    "        log_q_beta, *_ = calc_log_q_beta(X, t, beta, w, c, d)\n",
    "        log_prob = log_q_alpha + log_q_beta\n",
    "        log_prob_list.append(log_prob)\n",
    "        \n",
    "log_prob_list = np.array(log_prob_list).reshape(100, 100)"
   ]
  },
  {
   "cell_type": "code",
   "execution_count": 101,
   "id": "8828015b",
   "metadata": {},
   "outputs": [
    {
     "name": "stdout",
     "output_type": "stream",
     "text": [
      "(0, 35)\n"
     ]
    }
   ],
   "source": [
    "i_max = np.unravel_index(np.argmax(log_prob_list), log_prob_list.shape)\n",
    "print(i_max)\n",
    "power_sigma_n_2_opt = sigma_n_2_power_grid[i_max[0]]\n",
    "power_sigma_w_2_opt = sigma_w_2_power_grid[i_max[1]]"
   ]
  },
  {
   "cell_type": "code",
   "execution_count": 102,
   "id": "a0f19740",
   "metadata": {},
   "outputs": [
    {
     "data": {
      "image/png": "[encoded data removed]",
      "text/plain": [
       "<Figure size 432x288 with 2 Axes>"
      ]
     },
     "metadata": {
      "needs_background": "light"
     },
     "output_type": "display_data"
    }
   ],
   "source": [
    "plt.contourf(sigma_n_2_power_grid, sigma_w_2_power_grid, log_prob_list) #[X, Y], Z\n",
    "plt.scatter(power_sigma_n_2_opt, power_sigma_w_2_opt, color='red')\n",
    "plt.title(r\"$log (y \\mid \\sigma_w^2, \\sigma_n^2)$\")\n",
    "plt.xlabel(r\"$log_{10} (\\sigma_n^2)$\")\n",
    "plt.ylabel(r\"$log_{10} (\\sigma_w^2)$\")\n",
    "plt.colorbar()\n",
    "plt.show()"
   ]
  },
  {
   "cell_type": "code",
   "execution_count": 103,
   "id": "483ddefc",
   "metadata": {},
   "outputs": [
    {
     "data": {
      "text/plain": [
       "array([[-7.12937982e+10, -4.47746022e+10, -2.81197753e+10, ...,\n",
       "        -3.30638330e+05, -3.33600525e+05, -3.36562719e+05],\n",
       "       [-7.12938160e+10, -4.47746199e+10, -2.81197930e+10, ...,\n",
       "        -3.48409303e+05, -3.51371498e+05, -3.54333692e+05],\n",
       "       [-7.12938339e+10, -4.47746378e+10, -2.81198109e+10, ...,\n",
       "        -3.66247362e+05, -3.69209556e+05, -3.72171751e+05],\n",
       "       ...,\n",
       "       [-7.12955390e+10, -4.47763430e+10, -2.81215160e+10, ...,\n",
       "        -2.07143205e+06, -2.07439424e+06, -2.07735644e+06],\n",
       "       [-7.12955570e+10, -4.47763609e+10, -2.81215340e+10, ...,\n",
       "        -2.08938337e+06, -2.09234557e+06, -2.09530776e+06],\n",
       "       [-7.12955749e+10, -4.47763789e+10, -2.81215519e+10, ...,\n",
       "        -2.10733470e+06, -2.11029689e+06, -2.11325909e+06]])"
      ]
     },
     "execution_count": 103,
     "metadata": {},
     "output_type": "execute_result"
    }
   ],
   "source": [
    "log_prob_list"
   ]
  },
  {
   "cell_type": "markdown",
   "id": "d0547734",
   "metadata": {},
   "source": [
    "### Visualise Q for sigma_w and sigma_n"
   ]
  },
  {
   "cell_type": "code",
   "execution_count": 104,
   "id": "476a05fc",
   "metadata": {},
   "outputs": [
    {
     "name": "stdout",
     "output_type": "stream",
     "text": [
      "[1.e+10 1.e+10 1.e+10 1.e+10 1.e+10 1.e+10 1.e+10 1.e+10] 10000000000.0\n"
     ]
    }
   ],
   "source": [
    "print(1/alpha, 1/beta)"
   ]
  },
  {
   "cell_type": "code",
   "execution_count": null,
   "id": "5d3ff16b",
   "metadata": {},
   "outputs": [],
   "source": []
  }
 ],
 "metadata": {
  "kernelspec": {
   "display_name": "Python 3",
   "language": "python",
   "name": "python3"
  },
  "language_info": {
   "codemirror_mode": {
    "name": "ipython",
    "version": 3
   },
   "file_extension": ".py",
   "mimetype": "text/x-python",
   "name": "python",
   "nbconvert_exporter": "python",
   "pygments_lexer": "ipython3",
   "version": "3.8.8"
  }
 },
 "nbformat": 4,
 "nbformat_minor": 5
}
