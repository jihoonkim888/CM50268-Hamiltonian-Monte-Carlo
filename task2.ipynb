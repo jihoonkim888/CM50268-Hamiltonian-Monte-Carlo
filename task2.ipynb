{
 "cells": [
  {
   "cell_type": "code",
   "execution_count": 1,
   "id": "4b9104fe",
   "metadata": {},
   "outputs": [],
   "source": [
    "%matplotlib inline\n",
    "import numpy as np\n",
    "import pandas as pd\n",
    "import matplotlib.pyplot as plt\n",
    "from scipy import stats\n",
    "from sklearn.preprocessing import Normalizer"
   ]
  },
  {
   "cell_type": "code",
   "execution_count": 2,
   "id": "d808df03",
   "metadata": {},
   "outputs": [],
   "source": [
    "df_train = pd.read_csv('ee-train.csv')\n",
    "df_test = pd.read_csv('ee-test.csv')"
   ]
  },
  {
   "cell_type": "code",
   "execution_count": 3,
   "id": "6db962e4",
   "metadata": {},
   "outputs": [],
   "source": [
    "X_train = np.array(df_train.iloc[:, :-1])\n",
    "y_train = np.array(df_train.iloc[:, -1])\n",
    "X_test = np.array(df_test.iloc[:, :-1])\n",
    "y_test = np.array(df_test.iloc[:, -1])\n",
    "\n",
    "normaliser = Normalizer()\n",
    "X_train = normaliser.fit_transform(X=X_train)\n",
    "X_test = normaliser.transform(X=X_test)"
   ]
  },
  {
   "cell_type": "code",
   "execution_count": 4,
   "id": "945ae660",
   "metadata": {},
   "outputs": [
    {
     "data": {
      "text/plain": [
       "(384, 8)"
      ]
     },
     "execution_count": 4,
     "metadata": {},
     "output_type": "execute_result"
    }
   ],
   "source": [
    "X_train.shape"
   ]
  },
  {
   "cell_type": "code",
   "execution_count": 5,
   "id": "ba49fa66",
   "metadata": {},
   "outputs": [
    {
     "data": {
      "text/plain": [
       "(384,)"
      ]
     },
     "execution_count": 5,
     "metadata": {},
     "output_type": "execute_result"
    }
   ],
   "source": [
    "y_train.shape"
   ]
  },
  {
   "cell_type": "markdown",
   "id": "0da094b6",
   "metadata": {},
   "source": [
    "### ORIGINAL"
   ]
  },
  {
   "cell_type": "code",
   "execution_count": 6,
   "id": "4a6bc40f",
   "metadata": {},
   "outputs": [],
   "source": [
    "def compute_posterior(PHI, y, alph, s2):\n",
    "    #\n",
    "    #### **** YOUR CODE HERE **** ####\n",
    "    #\n",
    "    # posterior mean Mu and cov SIGMA with basis matrix PHI\n",
    "    # and width hyperparam alph and s2\n",
    "    # where alph = lam/s2\n",
    "\n",
    "    SIGMA = np.linalg.inv(alph*np.eye(PHI.shape[0]) + (1/s2)*PHI.T@PHI)\n",
    "    Mu = (1/s2)*SIGMA@PHI.T@y\n",
    "    \n",
    "    return Mu, SIGMA"
   ]
  },
  {
   "cell_type": "code",
   "execution_count": 7,
   "id": "5a72d304",
   "metadata": {},
   "outputs": [],
   "source": [
    "def compute_log_marginal(PHI, y, alph, s2):\n",
    "    #\n",
    "    #### **** YOUR CODE HERE **** ####\n",
    "    #\n",
    "    Mu, SIGMA = compute_posterior(PHI, y, alph, s2)\n",
    "    N = PHI.shape[0]\n",
    "    M = PHI.shape[1]\n",
    "#     lgp = stats.multivariate_normal.logpdf()\n",
    "    E_m_N = 1/(s2*2) * np.linalg.norm(y-PHI@Mu)**2 + alph/2*Mu.T@Mu\n",
    "    lgp = 0.5*M*np.log(alph) + 0.5*N*np.log(1/s2) - E_m_N - 0.5*np.log(np.linalg.det(np.linalg.inv(SIGMA))) - 0.5*N*np.log(2*np.pi)\n",
    "    return lgp\n",
    "\n"
   ]
  },
  {
   "cell_type": "markdown",
   "id": "f1f2b308",
   "metadata": {},
   "source": [
    "### MODIFIED"
   ]
  },
  {
   "cell_type": "code",
   "execution_count": 8,
   "id": "4c6cb18e",
   "metadata": {},
   "outputs": [],
   "source": [
    "def compute_posterior(X, y, sigma_w_2, sigma_n_2):\n",
    "    SIGMA = np.linalg.inv((1/sigma_w_2)*np.eye(X.shape[1]) + (1/sigma_n_2)*X.T@X)\n",
    "    Mu = (1/sigma_n_2)*SIGMA@X.T@y\n",
    "    \n",
    "#     N = X.shape[0]\n",
    "#     shared = np.linalg.inv(X.T@X + sigma_n_2*sigma_w_2*np.eye(N))\n",
    "#     Mu = shared@X.T@y\n",
    "#     SIGMA = sigma_n_2*shared\n",
    "    return Mu, SIGMA\n",
    "\n",
    "def compute_log_marginal(X, y, sigma_w_2, sigma_n_2):\n",
    "\n",
    "    Mu, SIGMA = compute_posterior(X, y, sigma_w_2, sigma_n_2)\n",
    "    N = X.shape[0]\n",
    "    M = X.shape[1]\n",
    "#     lgp = stats.multivariate_normal.logpdf()\n",
    "    E_m_N = 1/(sigma_n_2*2) * np.linalg.norm(y-X@Mu)**2 + (1/sigma_w_2)/2*Mu.T@Mu\n",
    "    lgp = 0.5*M*np.log((1/sigma_w_2)) + 0.5*N*np.log(1/sigma_n_2) - E_m_N - 0.5*np.log(np.linalg.det(np.linalg.inv(SIGMA))) - 0.5*N*np.log(2*np.pi)\n",
    "    return lgp"
   ]
  },
  {
   "cell_type": "markdown",
   "id": "dc17eac9",
   "metadata": {},
   "source": [
    "### NEW VERSION"
   ]
  },
  {
   "cell_type": "code",
   "execution_count": 9,
   "id": "df44ef6d",
   "metadata": {},
   "outputs": [],
   "source": [
    "def compute_log_marginal(X, y, sigma_n_2, sigma_w_2):\n",
    "    N = X.shape[0]\n",
    "    shared = sigma_n_2*np.eye(N) + sigma_w_2*X@X.T\n",
    "    first = (N/2)*np.log(2*np.pi)\n",
    "    second = 0.5*np.log(np.linalg.det(shared))\n",
    "    third = -0.5*y.T@np.linalg.inv(shared)@y\n",
    "    return first + second + third"
   ]
  },
  {
   "cell_type": "code",
   "execution_count": 17,
   "id": "072d824b",
   "metadata": {},
   "outputs": [
    {
     "ename": "ValueError",
     "evalue": "operands could not be broadcast together with shapes (384,8) (384,) ",
     "output_type": "error",
     "traceback": [
      "\u001b[0;31m---------------------------------------------------------------------------\u001b[0m",
      "\u001b[0;31mValueError\u001b[0m                                Traceback (most recent call last)",
      "\u001b[0;32m<ipython-input-17-e5c39e9eb6b1>\u001b[0m in \u001b[0;36m<module>\u001b[0;34m\u001b[0m\n\u001b[1;32m      6\u001b[0m     \u001b[0;32mreturn\u001b[0m \u001b[0mstats\u001b[0m\u001b[0;34m.\u001b[0m\u001b[0mmultivariate_normal\u001b[0m\u001b[0;34m.\u001b[0m\u001b[0mlogpdf\u001b[0m\u001b[0;34m(\u001b[0m\u001b[0mX\u001b[0m\u001b[0;34m,\u001b[0m \u001b[0mmean\u001b[0m\u001b[0;34m=\u001b[0m\u001b[0;32mNone\u001b[0m\u001b[0;34m,\u001b[0m \u001b[0mcov\u001b[0m\u001b[0;34m=\u001b[0m\u001b[0mcov\u001b[0m\u001b[0;34m,\u001b[0m \u001b[0mallow_singular\u001b[0m\u001b[0;34m=\u001b[0m\u001b[0;32mTrue\u001b[0m\u001b[0;34m)\u001b[0m\u001b[0;34m\u001b[0m\u001b[0;34m\u001b[0m\u001b[0m\n\u001b[1;32m      7\u001b[0m \u001b[0;34m\u001b[0m\u001b[0m\n\u001b[0;32m----> 8\u001b[0;31m \u001b[0mcompute_log_marginal\u001b[0m\u001b[0;34m(\u001b[0m\u001b[0mX_train\u001b[0m\u001b[0;34m,\u001b[0m \u001b[0my_train\u001b[0m\u001b[0;34m,\u001b[0m \u001b[0;36m0.01\u001b[0m\u001b[0;34m,\u001b[0m \u001b[0;36m0.01\u001b[0m\u001b[0;34m)\u001b[0m\u001b[0;34m\u001b[0m\u001b[0;34m\u001b[0m\u001b[0m\n\u001b[0m",
      "\u001b[0;32m<ipython-input-17-e5c39e9eb6b1>\u001b[0m in \u001b[0;36mcompute_log_marginal\u001b[0;34m(X, y, sigma_n_2, sigma_w_2)\u001b[0m\n\u001b[1;32m      4\u001b[0m     \u001b[0mN\u001b[0m \u001b[0;34m=\u001b[0m \u001b[0mX\u001b[0m\u001b[0;34m.\u001b[0m\u001b[0mshape\u001b[0m\u001b[0;34m[\u001b[0m\u001b[0;36m0\u001b[0m\u001b[0;34m]\u001b[0m\u001b[0;34m\u001b[0m\u001b[0;34m\u001b[0m\u001b[0m\n\u001b[1;32m      5\u001b[0m     \u001b[0mcov\u001b[0m \u001b[0;34m=\u001b[0m \u001b[0msigma_n_2\u001b[0m\u001b[0;34m*\u001b[0m\u001b[0mnp\u001b[0m\u001b[0;34m.\u001b[0m\u001b[0meye\u001b[0m\u001b[0;34m(\u001b[0m\u001b[0mN\u001b[0m\u001b[0;34m)\u001b[0m \u001b[0;34m+\u001b[0m \u001b[0msigma_w_2\u001b[0m\u001b[0;34m*\u001b[0m\u001b[0mX\u001b[0m\u001b[0;34m@\u001b[0m\u001b[0mX\u001b[0m\u001b[0;34m.\u001b[0m\u001b[0mT\u001b[0m\u001b[0;34m\u001b[0m\u001b[0;34m\u001b[0m\u001b[0m\n\u001b[0;32m----> 6\u001b[0;31m     \u001b[0;32mreturn\u001b[0m \u001b[0mstats\u001b[0m\u001b[0;34m.\u001b[0m\u001b[0mmultivariate_normal\u001b[0m\u001b[0;34m.\u001b[0m\u001b[0mlogpdf\u001b[0m\u001b[0;34m(\u001b[0m\u001b[0mX\u001b[0m\u001b[0;34m,\u001b[0m \u001b[0mmean\u001b[0m\u001b[0;34m=\u001b[0m\u001b[0;32mNone\u001b[0m\u001b[0;34m,\u001b[0m \u001b[0mcov\u001b[0m\u001b[0;34m=\u001b[0m\u001b[0mcov\u001b[0m\u001b[0;34m,\u001b[0m \u001b[0mallow_singular\u001b[0m\u001b[0;34m=\u001b[0m\u001b[0;32mTrue\u001b[0m\u001b[0;34m)\u001b[0m\u001b[0;34m\u001b[0m\u001b[0;34m\u001b[0m\u001b[0m\n\u001b[0m\u001b[1;32m      7\u001b[0m \u001b[0;34m\u001b[0m\u001b[0m\n\u001b[1;32m      8\u001b[0m \u001b[0mcompute_log_marginal\u001b[0m\u001b[0;34m(\u001b[0m\u001b[0mX_train\u001b[0m\u001b[0;34m,\u001b[0m \u001b[0my_train\u001b[0m\u001b[0;34m,\u001b[0m \u001b[0;36m0.01\u001b[0m\u001b[0;34m,\u001b[0m \u001b[0;36m0.01\u001b[0m\u001b[0;34m)\u001b[0m\u001b[0;34m\u001b[0m\u001b[0;34m\u001b[0m\u001b[0m\n",
      "\u001b[0;32m~/miniforge3/envs/atf2/lib/python3.8/site-packages/scipy/stats/_multivariate.py\u001b[0m in \u001b[0;36mlogpdf\u001b[0;34m(self, x, mean, cov, allow_singular)\u001b[0m\n\u001b[1;32m    500\u001b[0m         \u001b[0mx\u001b[0m \u001b[0;34m=\u001b[0m \u001b[0mself\u001b[0m\u001b[0;34m.\u001b[0m\u001b[0m_process_quantiles\u001b[0m\u001b[0;34m(\u001b[0m\u001b[0mx\u001b[0m\u001b[0;34m,\u001b[0m \u001b[0mdim\u001b[0m\u001b[0;34m)\u001b[0m\u001b[0;34m\u001b[0m\u001b[0;34m\u001b[0m\u001b[0m\n\u001b[1;32m    501\u001b[0m         \u001b[0mpsd\u001b[0m \u001b[0;34m=\u001b[0m \u001b[0m_PSD\u001b[0m\u001b[0;34m(\u001b[0m\u001b[0mcov\u001b[0m\u001b[0;34m,\u001b[0m \u001b[0mallow_singular\u001b[0m\u001b[0;34m=\u001b[0m\u001b[0mallow_singular\u001b[0m\u001b[0;34m)\u001b[0m\u001b[0;34m\u001b[0m\u001b[0;34m\u001b[0m\u001b[0m\n\u001b[0;32m--> 502\u001b[0;31m         \u001b[0mout\u001b[0m \u001b[0;34m=\u001b[0m \u001b[0mself\u001b[0m\u001b[0;34m.\u001b[0m\u001b[0m_logpdf\u001b[0m\u001b[0;34m(\u001b[0m\u001b[0mx\u001b[0m\u001b[0;34m,\u001b[0m \u001b[0mmean\u001b[0m\u001b[0;34m,\u001b[0m \u001b[0mpsd\u001b[0m\u001b[0;34m.\u001b[0m\u001b[0mU\u001b[0m\u001b[0;34m,\u001b[0m \u001b[0mpsd\u001b[0m\u001b[0;34m.\u001b[0m\u001b[0mlog_pdet\u001b[0m\u001b[0;34m,\u001b[0m \u001b[0mpsd\u001b[0m\u001b[0;34m.\u001b[0m\u001b[0mrank\u001b[0m\u001b[0;34m)\u001b[0m\u001b[0;34m\u001b[0m\u001b[0;34m\u001b[0m\u001b[0m\n\u001b[0m\u001b[1;32m    503\u001b[0m         \u001b[0;32mreturn\u001b[0m \u001b[0m_squeeze_output\u001b[0m\u001b[0;34m(\u001b[0m\u001b[0mout\u001b[0m\u001b[0;34m)\u001b[0m\u001b[0;34m\u001b[0m\u001b[0;34m\u001b[0m\u001b[0m\n\u001b[1;32m    504\u001b[0m \u001b[0;34m\u001b[0m\u001b[0m\n",
      "\u001b[0;32m~/miniforge3/envs/atf2/lib/python3.8/site-packages/scipy/stats/_multivariate.py\u001b[0m in \u001b[0;36m_logpdf\u001b[0;34m(self, x, mean, prec_U, log_det_cov, rank)\u001b[0m\n\u001b[1;32m    473\u001b[0m \u001b[0;34m\u001b[0m\u001b[0m\n\u001b[1;32m    474\u001b[0m         \"\"\"\n\u001b[0;32m--> 475\u001b[0;31m         \u001b[0mdev\u001b[0m \u001b[0;34m=\u001b[0m \u001b[0mx\u001b[0m \u001b[0;34m-\u001b[0m \u001b[0mmean\u001b[0m\u001b[0;34m\u001b[0m\u001b[0;34m\u001b[0m\u001b[0m\n\u001b[0m\u001b[1;32m    476\u001b[0m         \u001b[0mmaha\u001b[0m \u001b[0;34m=\u001b[0m \u001b[0mnp\u001b[0m\u001b[0;34m.\u001b[0m\u001b[0msum\u001b[0m\u001b[0;34m(\u001b[0m\u001b[0mnp\u001b[0m\u001b[0;34m.\u001b[0m\u001b[0msquare\u001b[0m\u001b[0;34m(\u001b[0m\u001b[0mnp\u001b[0m\u001b[0;34m.\u001b[0m\u001b[0mdot\u001b[0m\u001b[0;34m(\u001b[0m\u001b[0mdev\u001b[0m\u001b[0;34m,\u001b[0m \u001b[0mprec_U\u001b[0m\u001b[0;34m)\u001b[0m\u001b[0;34m)\u001b[0m\u001b[0;34m,\u001b[0m \u001b[0maxis\u001b[0m\u001b[0;34m=\u001b[0m\u001b[0;34m-\u001b[0m\u001b[0;36m1\u001b[0m\u001b[0;34m)\u001b[0m\u001b[0;34m\u001b[0m\u001b[0;34m\u001b[0m\u001b[0m\n\u001b[1;32m    477\u001b[0m         \u001b[0;32mreturn\u001b[0m \u001b[0;34m-\u001b[0m\u001b[0;36m0.5\u001b[0m \u001b[0;34m*\u001b[0m \u001b[0;34m(\u001b[0m\u001b[0mrank\u001b[0m \u001b[0;34m*\u001b[0m \u001b[0m_LOG_2PI\u001b[0m \u001b[0;34m+\u001b[0m \u001b[0mlog_det_cov\u001b[0m \u001b[0;34m+\u001b[0m \u001b[0mmaha\u001b[0m\u001b[0;34m)\u001b[0m\u001b[0;34m\u001b[0m\u001b[0;34m\u001b[0m\u001b[0m\n",
      "\u001b[0;31mValueError\u001b[0m: operands could not be broadcast together with shapes (384,8) (384,) "
     ]
    }
   ],
   "source": [
    "### USING ZERO-MEAN GAUSSIAN CONCEPT\n",
    "\n",
    "def compute_log_marginal(X, y, sigma_n_2, sigma_w_2):\n",
    "    N = X.shape[0]\n",
    "    cov = sigma_n_2*np.eye(N) + sigma_w_2*X@X.T\n",
    "    return stats.multivariate_normal.logpdf(X, mean=None, cov=cov, allow_singular=True)\n",
    "    \n",
    "compute_log_marginal(X_train, y_train, 0.01, 0.01)"
   ]
  },
  {
   "cell_type": "markdown",
   "id": "962ea8b0",
   "metadata": {},
   "source": [
    "### Hyperparameter grid"
   ]
  },
  {
   "cell_type": "code",
   "execution_count": 10,
   "id": "223f13a0",
   "metadata": {},
   "outputs": [
    {
     "name": "stderr",
     "output_type": "stream",
     "text": [
      "<ipython-input-9-ffadec29a926>:5: RuntimeWarning: divide by zero encountered in log\n",
      "  second = 0.5*np.log(np.linalg.det(shared))\n",
      "/Users/jihoon/miniforge3/envs/atf2/lib/python3.8/site-packages/numpy/linalg/linalg.py:2158: RuntimeWarning: overflow encountered in det\n",
      "  r = _umath_linalg.det(a, signature=signature)\n"
     ]
    }
   ],
   "source": [
    "sigma_n_2_power_grid = np.linspace(-5, 5, 100)\n",
    "sigma_w_2_power_grid = np.linspace(-1, 1, 100)\n",
    "\n",
    "log_prob_list = []\n",
    "\n",
    "for power_sigma_n_2 in sigma_n_2_power_grid:\n",
    "    for power_sigma_w_2 in sigma_w_2_power_grid:\n",
    "        log_prob = compute_log_marginal(X_train, y_train, 10**power_sigma_n_2, 10**power_sigma_w_2)\n",
    "        log_prob_list.append(log_prob)"
   ]
  },
  {
   "cell_type": "code",
   "execution_count": 11,
   "id": "b3f8bae1",
   "metadata": {},
   "outputs": [],
   "source": [
    "# prob_list to 2d shape\n",
    "log_prob_list = np.array(log_prob_list).reshape(100, 100)"
   ]
  },
  {
   "cell_type": "code",
   "execution_count": 12,
   "id": "5f616486",
   "metadata": {},
   "outputs": [
    {
     "data": {
      "text/plain": [
       "array([-17396.78470472, -17201.66097173, -17008.86885049, -16818.18407026,\n",
       "       -16629.39352825, -16442.29546098, -16256.6996096 , -16072.42737736,\n",
       "       -15889.31197765, -15707.19857014, -15525.94438294, -15345.41881783,\n",
       "       -15165.50353592, -14986.09252064, -14807.09211508, -14628.42103043,\n",
       "       -14450.01032254, -14271.80333352, -14093.75559546, -13915.83469378,\n",
       "       -13738.0200876 , -13560.30288528, -13382.68557342, -13205.18169821,\n",
       "       -13027.81549845, -12850.6214902 , -12673.6440036 , -12496.93667299,\n",
       "       -12320.56188214, -12144.59016708, -11969.09957949, -11794.17501442,\n",
       "       -11619.90750661, -11446.39350006, -11273.73409612, -11102.03428579,\n",
       "       -10931.40217189, -10761.94818747, -10593.78431648, -10427.02332297,\n",
       "       -10261.77799504, -10098.16040935,  -9936.28122207,  -9776.2489914 ,\n",
       "        -9618.16953668,  -9462.14533849,  -9308.27498346,  -9156.65265708,\n",
       "        -9007.36768715,  -8860.50413971,  -8716.14046872,  -8574.34922028,\n",
       "        -8435.19679117,  -8298.74324122,  -8165.04215835,  -8034.1405746 ,\n",
       "        -7906.07893091,  -7780.89108826,  -7658.60438214,  -7539.23971731,\n",
       "        -7422.8116994 ,  -7309.32879982,  -7198.79355036,  -7091.20276387,\n",
       "        -6986.54777725,  -6884.8147133 ,  -6785.98475777,  -6690.03444842,\n",
       "        -6596.93597277,  -6506.65747161,  -6419.16334547,  -6334.4145614 ,\n",
       "        -6252.36895787,  -6172.98154555,  -6096.20480219,  -6021.98895996,\n",
       "        -5950.28228378,  -5881.03133956,  -5814.18125132,  -5749.67594638,\n",
       "        -5687.4583881 ,  -5627.47079574,  -5569.65485101,  -5513.95189149,\n",
       "        -5460.30309054,  -5408.6496241 ,  -5358.93282443,  -5311.09432113,\n",
       "        -5265.07616967,  -5220.82096806,  -5178.27196186,  -5137.37313825,\n",
       "        -5098.06930948,  -5060.30618638,  -5024.03044247,  -4989.18976907,\n",
       "        -4955.73292224,  -4923.60976183,  -4892.77128333,  -4863.16964308])"
      ]
     },
     "execution_count": 12,
     "metadata": {},
     "output_type": "execute_result"
    }
   ],
   "source": [
    "log_prob_list[50]"
   ]
  },
  {
   "cell_type": "code",
   "execution_count": 13,
   "id": "e263c7fb",
   "metadata": {},
   "outputs": [
    {
     "data": {
      "text/plain": [
       "inf"
      ]
     },
     "execution_count": 13,
     "metadata": {},
     "output_type": "execute_result"
    }
   ],
   "source": [
    "log_prob_list.max()"
   ]
  },
  {
   "cell_type": "code",
   "execution_count": 14,
   "id": "151202d2",
   "metadata": {},
   "outputs": [
    {
     "data": {
      "image/png": "[encoded data removed]",
      "text/plain": [
       "<Figure size 432x288 with 2 Axes>"
      ]
     },
     "metadata": {
      "needs_background": "light"
     },
     "output_type": "display_data"
    }
   ],
   "source": [
    "plt.contourf(sigma_n_2_power_grid, sigma_w_2_power_grid, log_prob_list) #[X, Y], Z\n",
    "plt.title(\"log_prob_y\")\n",
    "plt.xlabel(r\"$log_{10} (\\sigma_n^2)$\")\n",
    "plt.ylabel(r\"$log_{10} (\\sigma_w^2)$\")\n",
    "plt.colorbar()\n",
    "plt.show()\n",
    "\n",
    "# plt.contourf(alph_power_grid, r_power_grid, prob_y) #[X, Y], Z\n",
    "# plt.title(\"prob_y\")\n",
    "# plt.xlabel(r\"$log_{10} (\\alpha)$\")\n",
    "# plt.ylabel(r\"$log_{10} (r)$\")\n",
    "# plt.colorbar()\n",
    "# plt.show()"
   ]
  },
  {
   "cell_type": "code",
   "execution_count": 15,
   "id": "3ca06ec6",
   "metadata": {},
   "outputs": [
    {
     "data": {
      "image/png": "[encoded data removed]",
      "text/plain": [
       "<Figure size 432x288 with 2 Axes>"
      ]
     },
     "metadata": {
      "needs_background": "light"
     },
     "output_type": "display_data"
    }
   ],
   "source": [
    "prob_list = np.exp(log_prob_list)\n",
    "\n",
    "plt.contourf(sigma_n_2_power_grid, sigma_w_2_power_grid, prob_list) #[X, Y], Z\n",
    "plt.title(\"prob_y\")\n",
    "plt.xlabel(r\"$log_{10} (\\sigma_n^2)$\")\n",
    "plt.ylabel(r\"$log_{10} (\\sigma_w^2)$\")\n",
    "plt.colorbar()\n",
    "plt.show()\n",
    "\n"
   ]
  },
  {
   "cell_type": "code",
   "execution_count": 16,
   "id": "781e3a85",
   "metadata": {
    "scrolled": true
   },
   "outputs": [
    {
     "data": {
      "text/plain": [
       "array([[ 0.,  0.,  0., ...,  0.,  0.,  0.],\n",
       "       [ 0.,  0.,  0., ...,  0.,  0.,  0.],\n",
       "       [ 0.,  0.,  0., ...,  0.,  0.,  0.],\n",
       "       ...,\n",
       "       [inf, inf, inf, ..., inf, inf, inf],\n",
       "       [inf, inf, inf, ..., inf, inf, inf],\n",
       "       [inf, inf, inf, ..., inf, inf, inf]])"
      ]
     },
     "execution_count": 16,
     "metadata": {},
     "output_type": "execute_result"
    }
   ],
   "source": [
    "prob_list"
   ]
  },
  {
   "cell_type": "code",
   "execution_count": null,
   "id": "b3ba5bf2",
   "metadata": {},
   "outputs": [],
   "source": []
  }
 ],
 "metadata": {
  "kernelspec": {
   "display_name": "Python 3",
   "language": "python",
   "name": "python3"
  },
  "language_info": {
   "codemirror_mode": {
    "name": "ipython",
    "version": 3
   },
   "file_extension": ".py",
   "mimetype": "text/x-python",
   "name": "python",
   "nbconvert_exporter": "python",
   "pygments_lexer": "ipython3",
   "version": "3.8.8"
  }
 },
 "nbformat": 4,
 "nbformat_minor": 5
}
